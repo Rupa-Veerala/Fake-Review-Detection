{
 "cells": [
  {
   "cell_type": "code",
   "execution_count": 1,
   "id": "3d0d2178",
   "metadata": {},
   "outputs": [
    {
     "name": "stderr",
     "output_type": "stream",
     "text": [
      "[nltk_data] Downloading package wordnet to\n",
      "[nltk_data]     C:\\Users\\2076\\AppData\\Roaming\\nltk_data...\n",
      "[nltk_data]   Package wordnet is already up-to-date!\n"
     ]
    },
    {
     "data": {
      "text/plain": [
       "True"
      ]
     },
     "execution_count": 1,
     "metadata": {},
     "output_type": "execute_result"
    }
   ],
   "source": [
    "import numpy as np\n",
    "import pandas as pd\n",
    "import seaborn as sns\n",
    "import matplotlib.pyplot as plt\n",
    "%matplotlib inline\n",
    "import warnings\n",
    "warnings.filterwarnings('ignore')\n",
    "from nltk.corpus import stopwords\n",
    "from sklearn.feature_extraction.text import TfidfTransformer, CountVectorizer\n",
    "from sklearn.feature_extraction.text import CountVectorizer, TfidfTransformer\n",
    "from sklearn.metrics import classification_report, confusion_matrix\n",
    "from sklearn.model_selection import train_test_split\n",
    "import string, nltk\n",
    "from nltk import word_tokenize\n",
    "from nltk.stem import PorterStemmer\n",
    "from nltk.stem import WordNetLemmatizer\n",
    "nltk.download('wordnet')\n",
    "\n"
   ]
  },
  {
   "cell_type": "code",
   "execution_count": 2,
   "id": "103b5f6c",
   "metadata": {},
   "outputs": [
    {
     "name": "stderr",
     "output_type": "stream",
     "text": [
      "[nltk_data] Downloading package omw-1.4 to\n",
      "[nltk_data]     C:\\Users\\2076\\AppData\\Roaming\\nltk_data...\n",
      "[nltk_data]   Package omw-1.4 is already up-to-date!\n"
     ]
    },
    {
     "data": {
      "text/plain": [
       "True"
      ]
     },
     "execution_count": 2,
     "metadata": {},
     "output_type": "execute_result"
    }
   ],
   "source": [
    "nltk.download('omw-1.4')"
   ]
  },
  {
   "cell_type": "code",
   "execution_count": 3,
   "id": "13e13d55",
   "metadata": {},
   "outputs": [
    {
     "data": {
      "text/html": [
       "<div>\n",
       "<style scoped>\n",
       "    .dataframe tbody tr th:only-of-type {\n",
       "        vertical-align: middle;\n",
       "    }\n",
       "\n",
       "    .dataframe tbody tr th {\n",
       "        vertical-align: top;\n",
       "    }\n",
       "\n",
       "    .dataframe thead th {\n",
       "        text-align: right;\n",
       "    }\n",
       "</style>\n",
       "<table border=\"1\" class=\"dataframe\">\n",
       "  <thead>\n",
       "    <tr style=\"text-align: right;\">\n",
       "      <th></th>\n",
       "      <th>category</th>\n",
       "      <th>rating</th>\n",
       "      <th>label</th>\n",
       "      <th>text_</th>\n",
       "    </tr>\n",
       "  </thead>\n",
       "  <tbody>\n",
       "    <tr>\n",
       "      <th>0</th>\n",
       "      <td>Home_and_Kitchen_5</td>\n",
       "      <td>5.0</td>\n",
       "      <td>CG</td>\n",
       "      <td>Love this!  Well made, sturdy, and very comfor...</td>\n",
       "    </tr>\n",
       "    <tr>\n",
       "      <th>1</th>\n",
       "      <td>Home_and_Kitchen_5</td>\n",
       "      <td>5.0</td>\n",
       "      <td>CG</td>\n",
       "      <td>This pillow saved my back. I love the look and...</td>\n",
       "    </tr>\n",
       "    <tr>\n",
       "      <th>2</th>\n",
       "      <td>Home_and_Kitchen_5</td>\n",
       "      <td>1.0</td>\n",
       "      <td>CG</td>\n",
       "      <td>Missing information on how to use it, but it i...</td>\n",
       "    </tr>\n",
       "    <tr>\n",
       "      <th>3</th>\n",
       "      <td>Home_and_Kitchen_5</td>\n",
       "      <td>5.0</td>\n",
       "      <td>CG</td>\n",
       "      <td>Very nice set. Good quality. We have had the s...</td>\n",
       "    </tr>\n",
       "    <tr>\n",
       "      <th>4</th>\n",
       "      <td>Home_and_Kitchen_5</td>\n",
       "      <td>3.0</td>\n",
       "      <td>CG</td>\n",
       "      <td>I WANTED DIFFERENT FLAVORS BUT THEY ARE NOT.</td>\n",
       "    </tr>\n",
       "  </tbody>\n",
       "</table>\n",
       "</div>"
      ],
      "text/plain": [
       "             category  rating label  \\\n",
       "0  Home_and_Kitchen_5     5.0    CG   \n",
       "1  Home_and_Kitchen_5     5.0    CG   \n",
       "2  Home_and_Kitchen_5     1.0    CG   \n",
       "3  Home_and_Kitchen_5     5.0    CG   \n",
       "4  Home_and_Kitchen_5     3.0    CG   \n",
       "\n",
       "                                               text_  \n",
       "0  Love this!  Well made, sturdy, and very comfor...  \n",
       "1  This pillow saved my back. I love the look and...  \n",
       "2  Missing information on how to use it, but it i...  \n",
       "3  Very nice set. Good quality. We have had the s...  \n",
       "4       I WANTED DIFFERENT FLAVORS BUT THEY ARE NOT.  "
      ]
     },
     "execution_count": 3,
     "metadata": {},
     "output_type": "execute_result"
    }
   ],
   "source": [
    "df = pd.read_csv('fake reviews dataset.csv')\n",
    "df.head()"
   ]
  },
  {
   "cell_type": "code",
   "execution_count": 4,
   "id": "66a5bd39",
   "metadata": {},
   "outputs": [
    {
     "data": {
      "text/plain": [
       "category    25\n",
       "rating      25\n",
       "label       25\n",
       "text_       25\n",
       "dtype: int64"
      ]
     },
     "execution_count": 4,
     "metadata": {},
     "output_type": "execute_result"
    }
   ],
   "source": [
    "df.isnull().sum()"
   ]
  },
  {
   "cell_type": "code",
   "execution_count": 5,
   "id": "2e1b1cdf",
   "metadata": {},
   "outputs": [
    {
     "name": "stdout",
     "output_type": "stream",
     "text": [
      "<class 'pandas.core.frame.DataFrame'>\n",
      "RangeIndex: 32749 entries, 0 to 32748\n",
      "Data columns (total 4 columns):\n",
      " #   Column    Non-Null Count  Dtype  \n",
      "---  ------    --------------  -----  \n",
      " 0   category  32724 non-null  object \n",
      " 1   rating    32724 non-null  float64\n",
      " 2   label     32724 non-null  object \n",
      " 3   text_     32724 non-null  object \n",
      "dtypes: float64(1), object(3)\n",
      "memory usage: 1023.5+ KB\n"
     ]
    }
   ],
   "source": [
    "df.info()"
   ]
  },
  {
   "cell_type": "code",
   "execution_count": 6,
   "id": "2a9731f9",
   "metadata": {},
   "outputs": [
    {
     "data": {
      "text/html": [
       "<div>\n",
       "<style scoped>\n",
       "    .dataframe tbody tr th:only-of-type {\n",
       "        vertical-align: middle;\n",
       "    }\n",
       "\n",
       "    .dataframe tbody tr th {\n",
       "        vertical-align: top;\n",
       "    }\n",
       "\n",
       "    .dataframe thead th {\n",
       "        text-align: right;\n",
       "    }\n",
       "</style>\n",
       "<table border=\"1\" class=\"dataframe\">\n",
       "  <thead>\n",
       "    <tr style=\"text-align: right;\">\n",
       "      <th></th>\n",
       "      <th>rating</th>\n",
       "    </tr>\n",
       "  </thead>\n",
       "  <tbody>\n",
       "    <tr>\n",
       "      <th>count</th>\n",
       "      <td>32724.000000</td>\n",
       "    </tr>\n",
       "    <tr>\n",
       "      <th>mean</th>\n",
       "      <td>4.263537</td>\n",
       "    </tr>\n",
       "    <tr>\n",
       "      <th>std</th>\n",
       "      <td>1.133743</td>\n",
       "    </tr>\n",
       "    <tr>\n",
       "      <th>min</th>\n",
       "      <td>1.000000</td>\n",
       "    </tr>\n",
       "    <tr>\n",
       "      <th>25%</th>\n",
       "      <td>4.000000</td>\n",
       "    </tr>\n",
       "    <tr>\n",
       "      <th>50%</th>\n",
       "      <td>5.000000</td>\n",
       "    </tr>\n",
       "    <tr>\n",
       "      <th>75%</th>\n",
       "      <td>5.000000</td>\n",
       "    </tr>\n",
       "    <tr>\n",
       "      <th>max</th>\n",
       "      <td>5.000000</td>\n",
       "    </tr>\n",
       "  </tbody>\n",
       "</table>\n",
       "</div>"
      ],
      "text/plain": [
       "             rating\n",
       "count  32724.000000\n",
       "mean       4.263537\n",
       "std        1.133743\n",
       "min        1.000000\n",
       "25%        4.000000\n",
       "50%        5.000000\n",
       "75%        5.000000\n",
       "max        5.000000"
      ]
     },
     "execution_count": 6,
     "metadata": {},
     "output_type": "execute_result"
    }
   ],
   "source": [
    "df.describe()"
   ]
  },
  {
   "cell_type": "code",
   "execution_count": 7,
   "id": "87b0f2c6",
   "metadata": {},
   "outputs": [
    {
     "data": {
      "text/plain": [
       "5.0    19867\n",
       "4.0     6543\n",
       "3.0     3068\n",
       "1.0     1683\n",
       "2.0     1563\n",
       "Name: rating, dtype: int64"
      ]
     },
     "execution_count": 7,
     "metadata": {},
     "output_type": "execute_result"
    }
   ],
   "source": [
    "df['rating'].value_counts()"
   ]
  },
  {
   "cell_type": "code",
   "execution_count": 8,
   "id": "db468cd4",
   "metadata": {},
   "outputs": [
    {
     "data": {
      "image/png": "[encoded data removed]",
      "text/plain": [
       "<Figure size 1500x800 with 1 Axes>"
      ]
     },
     "metadata": {},
     "output_type": "display_data"
    }
   ],
   "source": [
    "plt.figure(figsize=(15,8))\n",
    "labels = df['rating'].value_counts().keys()\n",
    "values = df['rating'].value_counts().values\n",
    "explode = (0.1,0,0,0,0)\n",
    "plt.pie(values,labels=labels,explode=explode,shadow=True,autopct='%1.1f%%')\n",
    "plt.title('Proportion of each rating',fontweight='bold',fontsize=25,pad=20,color='crimson')\n",
    "plt.show()"
   ]
  },
  {
   "cell_type": "code",
   "execution_count": 9,
   "id": "5f599c40",
   "metadata": {},
   "outputs": [],
   "source": [
    "def clean_text(text):\n",
    "    nopunc = [w for w in text if w not in string.punctuation]\n",
    "    nopunc = ''.join(nopunc)\n",
    "    return  ' '.join([word for word in nopunc.split() if word.lower() not in stopwords.words('english')])"
   ]
  },
  {
   "cell_type": "code",
   "execution_count": 10,
   "id": "53026827",
   "metadata": {},
   "outputs": [
    {
     "data": {
      "text/plain": [
       "('Love this!  Well made, sturdy, and very comfortable.  I love it!Very pretty',\n",
       " 'Love Well made sturdy comfortable love itVery pretty')"
      ]
     },
     "execution_count": 10,
     "metadata": {},
     "output_type": "execute_result"
    }
   ],
   "source": [
    "df['text_'][0], clean_text(df['text_'][0])"
   ]
  },
  {
   "cell_type": "code",
   "execution_count": 11,
   "id": "4a5a1c4e",
   "metadata": {},
   "outputs": [
    {
     "data": {
      "text/plain": [
       "0    Love Well made sturdy comfortable love itVery ...\n",
       "1              pillow saved back love look feel pillow\n",
       "2          Missing information use great product price\n",
       "3                 nice set Good quality set two months\n",
       "4                             WANTED DIFFERENT FLAVORS\n",
       "Name: text_, dtype: object"
      ]
     },
     "execution_count": 11,
     "metadata": {},
     "output_type": "execute_result"
    }
   ],
   "source": [
    "df['text_'].head().apply(clean_text)"
   ]
  },
  {
   "cell_type": "code",
   "execution_count": 12,
   "id": "d886f219",
   "metadata": {},
   "outputs": [
    {
     "data": {
      "text/plain": [
       "(32749, 4)"
      ]
     },
     "execution_count": 12,
     "metadata": {},
     "output_type": "execute_result"
    }
   ],
   "source": [
    "df.shape"
   ]
  },
  {
   "cell_type": "code",
   "execution_count": 13,
   "id": "4c47fc33",
   "metadata": {},
   "outputs": [],
   "source": [
    "#df['text_'] = df['text_'].apply(clean_text)"
   ]
  },
  {
   "cell_type": "code",
   "execution_count": 14,
   "id": "0ab65556",
   "metadata": {},
   "outputs": [],
   "source": [
    "df['text_'] = df['text_'].astype(str)"
   ]
  },
  {
   "cell_type": "code",
   "execution_count": 15,
   "id": "077a697f",
   "metadata": {},
   "outputs": [],
   "source": [
    "def preprocess(text):\n",
    "    return ' '.join([word for word in word_tokenize(text) if word not in stopwords.words('english') and not word.isdigit() and word not in string.punctuation])\n"
   ]
  },
  {
   "cell_type": "code",
   "execution_count": 16,
   "id": "5bc3cf22",
   "metadata": {},
   "outputs": [
    {
     "data": {
      "text/plain": [
       "'I WANTED DIFFERENT FLAVORS BUT THEY ARE NOT'"
      ]
     },
     "execution_count": 16,
     "metadata": {},
     "output_type": "execute_result"
    }
   ],
   "source": [
    "preprocess(df['text_'][4])"
   ]
  },
  {
   "cell_type": "code",
   "execution_count": 17,
   "id": "21e63ecb",
   "metadata": {},
   "outputs": [],
   "source": [
    "df['text_'][:10000] = df['text_'][:10000].apply(preprocess)"
   ]
  },
  {
   "cell_type": "code",
   "execution_count": 19,
   "id": "feac2505",
   "metadata": {},
   "outputs": [],
   "source": [
    "df['text_'][10001:20000] = df['text_'][10001:20000].apply(preprocess)"
   ]
  },
  {
   "cell_type": "code",
   "execution_count": 20,
   "id": "61788878",
   "metadata": {},
   "outputs": [],
   "source": [
    "df['text_'][20001:30000] = df['text_'][20001:30000].apply(preprocess)"
   ]
  },
  {
   "cell_type": "code",
   "execution_count": 21,
   "id": "3fa224b3",
   "metadata": {},
   "outputs": [],
   "source": [
    "df['text_'][30001:32750] = df['text_'][30001:32750].apply(preprocess)"
   ]
  },
  {
   "cell_type": "code",
   "execution_count": 22,
   "id": "d8acd766",
   "metadata": {},
   "outputs": [],
   "source": [
    "df['text_'] = df['text_'].str.lower()"
   ]
  },
  {
   "cell_type": "code",
   "execution_count": 23,
   "id": "37814069",
   "metadata": {},
   "outputs": [],
   "source": [
    "stemmer = PorterStemmer()\n",
    "def stem_words(text):\n",
    "    return ' '.join([stemmer.stem(word) for word in text.split()])\n",
    "df['text_'] = df['text_'].apply(lambda x: stem_words(x))"
   ]
  },
  {
   "cell_type": "code",
   "execution_count": 24,
   "id": "a0334c5d",
   "metadata": {},
   "outputs": [],
   "source": [
    "lemmatizer = WordNetLemmatizer()\n",
    "def lemmatize_words(text):\n",
    "    return ' '.join([lemmatizer.lemmatize(word) for word in text.split()])\n",
    "df[\"text_\"] = df[\"text_\"].apply(lambda text: lemmatize_words(text))"
   ]
  },
  {
   "cell_type": "code",
   "execution_count": 25,
   "id": "af5961ed",
   "metadata": {},
   "outputs": [
    {
     "data": {
      "text/plain": [
       "0    love well made sturdi comfort i love veri pretti\n",
       "1        thi pillow save back i love look feel pillow\n",
       "2               miss inform use great product price i\n",
       "3         veri nice set good qualiti we set two month\n",
       "4               i want differ flavor but they are not\n",
       "Name: text_, dtype: object"
      ]
     },
     "execution_count": 25,
     "metadata": {},
     "output_type": "execute_result"
    }
   ],
   "source": [
    "df['text_'].head()"
   ]
  },
  {
   "cell_type": "code",
   "execution_count": 26,
   "id": "3129f132",
   "metadata": {},
   "outputs": [],
   "source": [
    "from sklearn.model_selection import train_test_split, GridSearchCV\n",
    "from sklearn.metrics import classification_report, confusion_matrix, accuracy_score\n",
    "import nltk\n",
    "from nltk.corpus import stopwords\n",
    "from sklearn.feature_extraction.text import CountVectorizer, TfidfTransformer\n",
    "from sklearn.naive_bayes import MultinomialNB\n",
    "from sklearn.pipeline import Pipeline\n",
    "from sklearn.ensemble import RandomForestClassifier\n",
    "from sklearn.tree import DecisionTreeClassifier\n",
    "from sklearn.neighbors import KNeighborsClassifier\n",
    "from sklearn.svm import SVC\n",
    "from sklearn.linear_model import LogisticRegression"
   ]
  },
  {
   "cell_type": "code",
   "execution_count": 27,
   "id": "5b320a45",
   "metadata": {},
   "outputs": [],
   "source": [
    "df.to_csv('Preprocessed dataset_s.csv')"
   ]
  },
  {
   "cell_type": "code",
   "execution_count": 28,
   "id": "1f1b3c98",
   "metadata": {},
   "outputs": [
    {
     "data": {
      "text/html": [
       "<div>\n",
       "<style scoped>\n",
       "    .dataframe tbody tr th:only-of-type {\n",
       "        vertical-align: middle;\n",
       "    }\n",
       "\n",
       "    .dataframe tbody tr th {\n",
       "        vertical-align: top;\n",
       "    }\n",
       "\n",
       "    .dataframe thead th {\n",
       "        text-align: right;\n",
       "    }\n",
       "</style>\n",
       "<table border=\"1\" class=\"dataframe\">\n",
       "  <thead>\n",
       "    <tr style=\"text-align: right;\">\n",
       "      <th></th>\n",
       "      <th>Unnamed: 0</th>\n",
       "      <th>category</th>\n",
       "      <th>rating</th>\n",
       "      <th>label</th>\n",
       "      <th>text_</th>\n",
       "    </tr>\n",
       "  </thead>\n",
       "  <tbody>\n",
       "    <tr>\n",
       "      <th>0</th>\n",
       "      <td>0</td>\n",
       "      <td>Home_and_Kitchen_5</td>\n",
       "      <td>5.0</td>\n",
       "      <td>CG</td>\n",
       "      <td>love well made sturdi comfort i love veri pretti</td>\n",
       "    </tr>\n",
       "    <tr>\n",
       "      <th>1</th>\n",
       "      <td>1</td>\n",
       "      <td>Home_and_Kitchen_5</td>\n",
       "      <td>5.0</td>\n",
       "      <td>CG</td>\n",
       "      <td>thi pillow save back i love look feel pillow</td>\n",
       "    </tr>\n",
       "    <tr>\n",
       "      <th>2</th>\n",
       "      <td>2</td>\n",
       "      <td>Home_and_Kitchen_5</td>\n",
       "      <td>1.0</td>\n",
       "      <td>CG</td>\n",
       "      <td>miss inform use great product price i</td>\n",
       "    </tr>\n",
       "    <tr>\n",
       "      <th>3</th>\n",
       "      <td>3</td>\n",
       "      <td>Home_and_Kitchen_5</td>\n",
       "      <td>5.0</td>\n",
       "      <td>CG</td>\n",
       "      <td>veri nice set good qualiti we set two month</td>\n",
       "    </tr>\n",
       "    <tr>\n",
       "      <th>4</th>\n",
       "      <td>4</td>\n",
       "      <td>Home_and_Kitchen_5</td>\n",
       "      <td>3.0</td>\n",
       "      <td>CG</td>\n",
       "      <td>i want differ flavor but they are not</td>\n",
       "    </tr>\n",
       "  </tbody>\n",
       "</table>\n",
       "</div>"
      ],
      "text/plain": [
       "   Unnamed: 0            category  rating label  \\\n",
       "0           0  Home_and_Kitchen_5     5.0    CG   \n",
       "1           1  Home_and_Kitchen_5     5.0    CG   \n",
       "2           2  Home_and_Kitchen_5     1.0    CG   \n",
       "3           3  Home_and_Kitchen_5     5.0    CG   \n",
       "4           4  Home_and_Kitchen_5     3.0    CG   \n",
       "\n",
       "                                              text_  \n",
       "0  love well made sturdi comfort i love veri pretti  \n",
       "1      thi pillow save back i love look feel pillow  \n",
       "2             miss inform use great product price i  \n",
       "3       veri nice set good qualiti we set two month  \n",
       "4             i want differ flavor but they are not  "
      ]
     },
     "execution_count": 28,
     "metadata": {},
     "output_type": "execute_result"
    }
   ],
   "source": [
    "df = pd.read_csv('Preprocessed dataset_s.csv')\n",
    "df.head()"
   ]
  },
  {
   "cell_type": "code",
   "execution_count": 29,
   "id": "92fb1f9b",
   "metadata": {},
   "outputs": [],
   "source": [
    "df.drop('Unnamed: 0',axis=1,inplace=True)"
   ]
  },
  {
   "cell_type": "code",
   "execution_count": 30,
   "id": "32215348",
   "metadata": {},
   "outputs": [
    {
     "data": {
      "text/html": [
       "<div>\n",
       "<style scoped>\n",
       "    .dataframe tbody tr th:only-of-type {\n",
       "        vertical-align: middle;\n",
       "    }\n",
       "\n",
       "    .dataframe tbody tr th {\n",
       "        vertical-align: top;\n",
       "    }\n",
       "\n",
       "    .dataframe thead th {\n",
       "        text-align: right;\n",
       "    }\n",
       "</style>\n",
       "<table border=\"1\" class=\"dataframe\">\n",
       "  <thead>\n",
       "    <tr style=\"text-align: right;\">\n",
       "      <th></th>\n",
       "      <th>category</th>\n",
       "      <th>rating</th>\n",
       "      <th>label</th>\n",
       "      <th>text_</th>\n",
       "    </tr>\n",
       "  </thead>\n",
       "  <tbody>\n",
       "    <tr>\n",
       "      <th>0</th>\n",
       "      <td>Home_and_Kitchen_5</td>\n",
       "      <td>5.0</td>\n",
       "      <td>CG</td>\n",
       "      <td>love well made sturdi comfort i love veri pretti</td>\n",
       "    </tr>\n",
       "    <tr>\n",
       "      <th>1</th>\n",
       "      <td>Home_and_Kitchen_5</td>\n",
       "      <td>5.0</td>\n",
       "      <td>CG</td>\n",
       "      <td>thi pillow save back i love look feel pillow</td>\n",
       "    </tr>\n",
       "    <tr>\n",
       "      <th>2</th>\n",
       "      <td>Home_and_Kitchen_5</td>\n",
       "      <td>1.0</td>\n",
       "      <td>CG</td>\n",
       "      <td>miss inform use great product price i</td>\n",
       "    </tr>\n",
       "    <tr>\n",
       "      <th>3</th>\n",
       "      <td>Home_and_Kitchen_5</td>\n",
       "      <td>5.0</td>\n",
       "      <td>CG</td>\n",
       "      <td>veri nice set good qualiti we set two month</td>\n",
       "    </tr>\n",
       "    <tr>\n",
       "      <th>4</th>\n",
       "      <td>Home_and_Kitchen_5</td>\n",
       "      <td>3.0</td>\n",
       "      <td>CG</td>\n",
       "      <td>i want differ flavor but they are not</td>\n",
       "    </tr>\n",
       "  </tbody>\n",
       "</table>\n",
       "</div>"
      ],
      "text/plain": [
       "             category  rating label  \\\n",
       "0  Home_and_Kitchen_5     5.0    CG   \n",
       "1  Home_and_Kitchen_5     5.0    CG   \n",
       "2  Home_and_Kitchen_5     1.0    CG   \n",
       "3  Home_and_Kitchen_5     5.0    CG   \n",
       "4  Home_and_Kitchen_5     3.0    CG   \n",
       "\n",
       "                                              text_  \n",
       "0  love well made sturdi comfort i love veri pretti  \n",
       "1      thi pillow save back i love look feel pillow  \n",
       "2             miss inform use great product price i  \n",
       "3       veri nice set good qualiti we set two month  \n",
       "4             i want differ flavor but they are not  "
      ]
     },
     "execution_count": 30,
     "metadata": {},
     "output_type": "execute_result"
    }
   ],
   "source": [
    "df.head()"
   ]
  },
  {
   "cell_type": "code",
   "execution_count": 31,
   "id": "76370994",
   "metadata": {},
   "outputs": [],
   "source": [
    "df.dropna(inplace=True)"
   ]
  },
  {
   "cell_type": "code",
   "execution_count": 32,
   "id": "28a947fd",
   "metadata": {},
   "outputs": [],
   "source": [
    "df['length'] = df['text_'].apply(len)"
   ]
  },
  {
   "cell_type": "code",
   "execution_count": 33,
   "id": "73550776",
   "metadata": {},
   "outputs": [
    {
     "name": "stdout",
     "output_type": "stream",
     "text": [
      "<class 'pandas.core.frame.DataFrame'>\n",
      "Int64Index: 32723 entries, 0 to 32748\n",
      "Data columns (total 5 columns):\n",
      " #   Column    Non-Null Count  Dtype  \n",
      "---  ------    --------------  -----  \n",
      " 0   category  32723 non-null  object \n",
      " 1   rating    32723 non-null  float64\n",
      " 2   label     32723 non-null  object \n",
      " 3   text_     32723 non-null  object \n",
      " 4   length    32723 non-null  int64  \n",
      "dtypes: float64(1), int64(1), object(3)\n",
      "memory usage: 1.5+ MB\n"
     ]
    }
   ],
   "source": [
    "df.info()"
   ]
  },
  {
   "cell_type": "code",
   "execution_count": 34,
   "id": "cda2e049",
   "metadata": {},
   "outputs": [
    {
     "data": {
      "image/png": "[encoded data removed]",
      "text/plain": [
       "<Figure size 640x480 with 1 Axes>"
      ]
     },
     "metadata": {},
     "output_type": "display_data"
    }
   ],
   "source": [
    "plt.hist(df['length'],bins=50)\n",
    "plt.show()"
   ]
  },
  {
   "cell_type": "code",
   "execution_count": 35,
   "id": "52fc9f73",
   "metadata": {},
   "outputs": [
    {
     "data": {
      "text/html": [
       "<div>\n",
       "<style scoped>\n",
       "    .dataframe tbody tr th:only-of-type {\n",
       "        vertical-align: middle;\n",
       "    }\n",
       "\n",
       "    .dataframe tbody tr th {\n",
       "        vertical-align: top;\n",
       "    }\n",
       "\n",
       "    .dataframe thead tr th {\n",
       "        text-align: left;\n",
       "    }\n",
       "\n",
       "    .dataframe thead tr:last-of-type th {\n",
       "        text-align: right;\n",
       "    }\n",
       "</style>\n",
       "<table border=\"1\" class=\"dataframe\">\n",
       "  <thead>\n",
       "    <tr>\n",
       "      <th></th>\n",
       "      <th colspan=\"8\" halign=\"left\">rating</th>\n",
       "      <th colspan=\"8\" halign=\"left\">length</th>\n",
       "    </tr>\n",
       "    <tr>\n",
       "      <th></th>\n",
       "      <th>count</th>\n",
       "      <th>mean</th>\n",
       "      <th>std</th>\n",
       "      <th>min</th>\n",
       "      <th>25%</th>\n",
       "      <th>50%</th>\n",
       "      <th>75%</th>\n",
       "      <th>max</th>\n",
       "      <th>count</th>\n",
       "      <th>mean</th>\n",
       "      <th>std</th>\n",
       "      <th>min</th>\n",
       "      <th>25%</th>\n",
       "      <th>50%</th>\n",
       "      <th>75%</th>\n",
       "      <th>max</th>\n",
       "    </tr>\n",
       "    <tr>\n",
       "      <th>label</th>\n",
       "      <th></th>\n",
       "      <th></th>\n",
       "      <th></th>\n",
       "      <th></th>\n",
       "      <th></th>\n",
       "      <th></th>\n",
       "      <th></th>\n",
       "      <th></th>\n",
       "      <th></th>\n",
       "      <th></th>\n",
       "      <th></th>\n",
       "      <th></th>\n",
       "      <th></th>\n",
       "      <th></th>\n",
       "      <th></th>\n",
       "      <th></th>\n",
       "    </tr>\n",
       "  </thead>\n",
       "  <tbody>\n",
       "    <tr>\n",
       "      <th>CG</th>\n",
       "      <td>16354.0</td>\n",
       "      <td>4.266418</td>\n",
       "      <td>1.129650</td>\n",
       "      <td>1.0</td>\n",
       "      <td>4.0</td>\n",
       "      <td>5.0</td>\n",
       "      <td>5.0</td>\n",
       "      <td>5.0</td>\n",
       "      <td>16354.0</td>\n",
       "      <td>177.918369</td>\n",
       "      <td>180.499347</td>\n",
       "      <td>13.0</td>\n",
       "      <td>56.0</td>\n",
       "      <td>96.0</td>\n",
       "      <td>226.0</td>\n",
       "      <td>1300.0</td>\n",
       "    </tr>\n",
       "    <tr>\n",
       "      <th>OR</th>\n",
       "      <td>16369.0</td>\n",
       "      <td>4.260676</td>\n",
       "      <td>1.137877</td>\n",
       "      <td>1.0</td>\n",
       "      <td>4.0</td>\n",
       "      <td>5.0</td>\n",
       "      <td>5.0</td>\n",
       "      <td>5.0</td>\n",
       "      <td>16369.0</td>\n",
       "      <td>243.611888</td>\n",
       "      <td>262.550314</td>\n",
       "      <td>4.0</td>\n",
       "      <td>72.0</td>\n",
       "      <td>129.0</td>\n",
       "      <td>308.0</td>\n",
       "      <td>2232.0</td>\n",
       "    </tr>\n",
       "  </tbody>\n",
       "</table>\n",
       "</div>"
      ],
      "text/plain": [
       "        rating                                                length  \\\n",
       "         count      mean       std  min  25%  50%  75%  max    count   \n",
       "label                                                                  \n",
       "CG     16354.0  4.266418  1.129650  1.0  4.0  5.0  5.0  5.0  16354.0   \n",
       "OR     16369.0  4.260676  1.137877  1.0  4.0  5.0  5.0  5.0  16369.0   \n",
       "\n",
       "                                                                 \n",
       "             mean         std   min   25%    50%    75%     max  \n",
       "label                                                            \n",
       "CG     177.918369  180.499347  13.0  56.0   96.0  226.0  1300.0  \n",
       "OR     243.611888  262.550314   4.0  72.0  129.0  308.0  2232.0  "
      ]
     },
     "execution_count": 35,
     "metadata": {},
     "output_type": "execute_result"
    }
   ],
   "source": [
    "df.groupby('label').describe()"
   ]
  },
  {
   "cell_type": "code",
   "execution_count": 36,
   "id": "8dfbf5df",
   "metadata": {},
   "outputs": [
    {
     "data": {
      "image/png": "[encoded data removed]",
      "text/plain": [
       "<Figure size 1200x500 with 2 Axes>"
      ]
     },
     "metadata": {},
     "output_type": "display_data"
    }
   ],
   "source": [
    "df.hist(column='length',by='label',bins=50,color='blue',figsize=(12,5))\n",
    "plt.show()"
   ]
  },
  {
   "cell_type": "code",
   "execution_count": 37,
   "id": "afbb47b0",
   "metadata": {},
   "outputs": [
    {
     "data": {
      "text/plain": [
       "\"weak on current scienc after see twice i agre much posit five star review out respect read review i 'll repeat everyth i like present i found goofi over ear hairdo facial hair arrang daniel vitali describ `` wild food expert '' distract ugh ditto david wolf extrem goofi wild hairdo on hand jon gabriel describ `` author weight loss expert '' nice groom good present hi stori person transform fellow pound whew becom jock normal weight inspir christian northrup preserv rank one america 's cutest doctor a realli nice look woman present dr. mercola jason vale kri carr alejandro junger fine it disappoint jami oliv popular uk give babi cow growth fluid pas unscientif popular idea milk none present anyth zilch say work doctor t. colin campbel milk bodi bad it good see present take stand sugar they agre evil sugar refin carbohydr with respect dr. northrup `` it 's fat make fat 's sugar '' statement pas muster commun expert recogn evil sugar not mutual exclus recogn proven danger fat particularli fat dead anim extract fat all kind oliv oil not health food data-hook= '' product-link-link '' class= '' a-link-norm '' href= '' /the-china-study-the-most-comprehensive-study-of-nutrition-ever-conducted-and-the-startling-implications-for-diet-weight-loss-and-long-term-health/dp/1932100660/ref=cm_cr_arp_d_rvw_txt ie=utf8 '' the china studi the most comprehens studi nutrit ever conduct and startl implic diet weight loss and long-term health /a data-hook= '' product-link-link '' class= '' a-link-norm '' href= '' /forks-over-knives/dp/b0053zhzi2/ref=cm_cr_arp_d_rvw_txt ie=utf8 '' fork over knive /a data-hook= '' product-link-link '' class= '' a-link-norm '' href= '' /prevent-and-reverse-heart-disease-the-revolutionary-scientifically-proven-nutrition-based-cure/dp/1583333002/ref=cm_cr_arp_d_rvw_txt ie=utf8 '' prevent revers heart diseas the revolutionari scientif proven nutrition-bas cure /a data-hook= '' product-link-link '' class= '' a-link-norm '' href= '' /the-plant-based-journey-a-step-by-step-guide-for-transitioning-to-a-healthy-lifestyle-and-achieving-your-ideal-weight/dp/1941631363/ref=cm_cr_arp_d_rvw_txt ie=utf8 '' the plant-bas journey a step-by-step guid transit healthi lifestyl achiev your ideal weight /a\""
      ]
     },
     "execution_count": 37,
     "metadata": {},
     "output_type": "execute_result"
    }
   ],
   "source": [
    "df[df['label']=='OR'][['text_','length']].sort_values(by='length',ascending=False).head().iloc[0].text_"
   ]
  },
  {
   "cell_type": "code",
   "execution_count": 38,
   "id": "19da97e9",
   "metadata": {},
   "outputs": [
    {
     "data": {
      "text/plain": [
       "count    32723.000000\n",
       "mean       210.780185\n",
       "std        227.688525\n",
       "min          4.000000\n",
       "25%         62.000000\n",
       "50%        112.000000\n",
       "75%        266.000000\n",
       "max       2232.000000\n",
       "Name: length, dtype: float64"
      ]
     },
     "execution_count": 38,
     "metadata": {},
     "output_type": "execute_result"
    }
   ],
   "source": [
    "df.length.describe()"
   ]
  },
  {
   "cell_type": "code",
   "execution_count": 39,
   "id": "78bb8a66",
   "metadata": {},
   "outputs": [],
   "source": [
    "def text_process(review):\n",
    "    nopunc = [char for char in review if char not in string.punctuation]\n",
    "    nopunc = ''.join(nopunc)\n",
    "    return [word for word in nopunc.split() if word.lower() not in stopwords.words('english')]"
   ]
  },
  {
   "cell_type": "code",
   "execution_count": 40,
   "id": "c0687ab3",
   "metadata": {},
   "outputs": [
    {
     "data": {
      "text/html": [
       "<style>#sk-container-id-1 {color: black;background-color: white;}#sk-container-id-1 pre{padding: 0;}#sk-container-id-1 div.sk-toggleable {background-color: white;}#sk-container-id-1 label.sk-toggleable__label {cursor: pointer;display: block;width: 100%;margin-bottom: 0;padding: 0.3em;box-sizing: border-box;text-align: center;}#sk-container-id-1 label.sk-toggleable__label-arrow:before {content: \"▸\";float: left;margin-right: 0.25em;color: #696969;}#sk-container-id-1 label.sk-toggleable__label-arrow:hover:before {color: black;}#sk-container-id-1 div.sk-estimator:hover label.sk-toggleable__label-arrow:before {color: black;}#sk-container-id-1 div.sk-toggleable__content {max-height: 0;max-width: 0;overflow: hidden;text-align: left;background-color: #f0f8ff;}#sk-container-id-1 div.sk-toggleable__content pre {margin: 0.2em;color: black;border-radius: 0.25em;background-color: #f0f8ff;}#sk-container-id-1 input.sk-toggleable__control:checked~div.sk-toggleable__content {max-height: 200px;max-width: 100%;overflow: auto;}#sk-container-id-1 input.sk-toggleable__control:checked~label.sk-toggleable__label-arrow:before {content: \"▾\";}#sk-container-id-1 div.sk-estimator input.sk-toggleable__control:checked~label.sk-toggleable__label {background-color: #d4ebff;}#sk-container-id-1 div.sk-label input.sk-toggleable__control:checked~label.sk-toggleable__label {background-color: #d4ebff;}#sk-container-id-1 input.sk-hidden--visually {border: 0;clip: rect(1px 1px 1px 1px);clip: rect(1px, 1px, 1px, 1px);height: 1px;margin: -1px;overflow: hidden;padding: 0;position: absolute;width: 1px;}#sk-container-id-1 div.sk-estimator {font-family: monospace;background-color: #f0f8ff;border: 1px dotted black;border-radius: 0.25em;box-sizing: border-box;margin-bottom: 0.5em;}#sk-container-id-1 div.sk-estimator:hover {background-color: #d4ebff;}#sk-container-id-1 div.sk-parallel-item::after {content: \"\";width: 100%;border-bottom: 1px solid gray;flex-grow: 1;}#sk-container-id-1 div.sk-label:hover label.sk-toggleable__label {background-color: #d4ebff;}#sk-container-id-1 div.sk-serial::before {content: \"\";position: absolute;border-left: 1px solid gray;box-sizing: border-box;top: 0;bottom: 0;left: 50%;z-index: 0;}#sk-container-id-1 div.sk-serial {display: flex;flex-direction: column;align-items: center;background-color: white;padding-right: 0.2em;padding-left: 0.2em;position: relative;}#sk-container-id-1 div.sk-item {position: relative;z-index: 1;}#sk-container-id-1 div.sk-parallel {display: flex;align-items: stretch;justify-content: center;background-color: white;position: relative;}#sk-container-id-1 div.sk-item::before, #sk-container-id-1 div.sk-parallel-item::before {content: \"\";position: absolute;border-left: 1px solid gray;box-sizing: border-box;top: 0;bottom: 0;left: 50%;z-index: -1;}#sk-container-id-1 div.sk-parallel-item {display: flex;flex-direction: column;z-index: 1;position: relative;background-color: white;}#sk-container-id-1 div.sk-parallel-item:first-child::after {align-self: flex-end;width: 50%;}#sk-container-id-1 div.sk-parallel-item:last-child::after {align-self: flex-start;width: 50%;}#sk-container-id-1 div.sk-parallel-item:only-child::after {width: 0;}#sk-container-id-1 div.sk-dashed-wrapped {border: 1px dashed gray;margin: 0 0.4em 0.5em 0.4em;box-sizing: border-box;padding-bottom: 0.4em;background-color: white;}#sk-container-id-1 div.sk-label label {font-family: monospace;font-weight: bold;display: inline-block;line-height: 1.2em;}#sk-container-id-1 div.sk-label-container {text-align: center;}#sk-container-id-1 div.sk-container {/* jupyter's `normalize.less` sets `[hidden] { display: none; }` but bootstrap.min.css set `[hidden] { display: none !important; }` so we also need the `!important` here to be able to override the default hidden behavior on the sphinx rendered scikit-learn.org. See: https://github.com/scikit-learn/scikit-learn/issues/21755 */display: inline-block !important;position: relative;}#sk-container-id-1 div.sk-text-repr-fallback {display: none;}</style><div id=\"sk-container-id-1\" class=\"sk-top-container\"><div class=\"sk-text-repr-fallback\"><pre>CountVectorizer(analyzer=&lt;function text_process at 0x000001CAE205E480&gt;)</pre><b>In a Jupyter environment, please rerun this cell to show the HTML representation or trust the notebook. <br />On GitHub, the HTML representation is unable to render, please try loading this page with nbviewer.org.</b></div><div class=\"sk-container\" hidden><div class=\"sk-item\"><div class=\"sk-estimator sk-toggleable\"><input class=\"sk-toggleable__control sk-hidden--visually\" id=\"sk-estimator-id-1\" type=\"checkbox\" checked><label for=\"sk-estimator-id-1\" class=\"sk-toggleable__label sk-toggleable__label-arrow\">CountVectorizer</label><div class=\"sk-toggleable__content\"><pre>CountVectorizer(analyzer=&lt;function text_process at 0x000001CAE205E480&gt;)</pre></div></div></div></div></div>"
      ],
      "text/plain": [
       "CountVectorizer(analyzer=<function text_process at 0x000001CAE205E480>)"
      ]
     },
     "execution_count": 40,
     "metadata": {},
     "output_type": "execute_result"
    }
   ],
   "source": [
    "bow_transformer = CountVectorizer(analyzer=text_process)\n",
    "bow_transformer"
   ]
  },
  {
   "cell_type": "code",
   "execution_count": 41,
   "id": "4cd4298a",
   "metadata": {},
   "outputs": [
    {
     "name": "stdout",
     "output_type": "stream",
     "text": [
      "Total Vocabulary: 31611\n"
     ]
    }
   ],
   "source": [
    "bow_transformer.fit(df['text_'])\n",
    "print(\"Total Vocabulary:\",len(bow_transformer.vocabulary_))"
   ]
  },
  {
   "cell_type": "code",
   "execution_count": 42,
   "id": "012e7ee6",
   "metadata": {},
   "outputs": [
    {
     "data": {
      "text/plain": [
       "'veri nice set good qualiti we set two month'"
      ]
     },
     "execution_count": 42,
     "metadata": {},
     "output_type": "execute_result"
    }
   ],
   "source": [
    "review4 = df['text_'][3]\n",
    "review4"
   ]
  },
  {
   "cell_type": "code",
   "execution_count": 43,
   "id": "a3da2cae",
   "metadata": {},
   "outputs": [
    {
     "name": "stdout",
     "output_type": "stream",
     "text": [
      "  (0, 12203)\t1\n",
      "  (0, 18405)\t1\n",
      "  (0, 19157)\t1\n",
      "  (0, 22375)\t1\n",
      "  (0, 24750)\t2\n",
      "  (0, 28902)\t1\n",
      "  (0, 29758)\t1\n",
      "(1, 31611)\n"
     ]
    }
   ],
   "source": [
    "bow_msg4 = bow_transformer.transform([review4])\n",
    "print(bow_msg4)\n",
    "print(bow_msg4.shape)"
   ]
  },
  {
   "cell_type": "markdown",
   "id": "ce25bb24",
   "metadata": {},
   "source": [
    "# There are 6 unique words in the 4th review."
   ]
  },
  {
   "cell_type": "code",
   "execution_count": 44,
   "id": "aa2391e1",
   "metadata": {},
   "outputs": [
    {
     "name": "stdout",
     "output_type": "stream",
     "text": [
      "kri\n",
      "russian\n"
     ]
    }
   ],
   "source": [
    "print(bow_transformer.get_feature_names_out()[15841])\n",
    "print(bow_transformer.get_feature_names_out()[23848])\n"
   ]
  },
  {
   "cell_type": "code",
   "execution_count": 45,
   "id": "d2195fbe",
   "metadata": {},
   "outputs": [],
   "source": [
    "bow_reviews = bow_transformer.transform(df['text_'])"
   ]
  },
  {
   "cell_type": "code",
   "execution_count": 46,
   "id": "26a7ce0d",
   "metadata": {},
   "outputs": [
    {
     "name": "stdout",
     "output_type": "stream",
     "text": [
      "Shape of Bag of Words Transformer for the entire reviews corpus: (32723, 31611)\n",
      "Amount of non zero values in the bag of words model: 831846\n"
     ]
    }
   ],
   "source": [
    "print(\"Shape of Bag of Words Transformer for the entire reviews corpus:\",bow_reviews.shape)\n",
    "print(\"Amount of non zero values in the bag of words model:\",bow_reviews.nnz)"
   ]
  },
  {
   "cell_type": "code",
   "execution_count": 47,
   "id": "9b307714",
   "metadata": {},
   "outputs": [
    {
     "name": "stdout",
     "output_type": "stream",
     "text": [
      "Sparsity: 0.08\n"
     ]
    }
   ],
   "source": [
    "print(\"Sparsity:\",np.round((bow_reviews.nnz/(bow_reviews.shape[0]*bow_reviews.shape[1]))*100,2))"
   ]
  },
  {
   "cell_type": "code",
   "execution_count": 48,
   "id": "c70e5f8c",
   "metadata": {},
   "outputs": [
    {
     "name": "stdout",
     "output_type": "stream",
     "text": [
      "  (0, 12203)\t1\n",
      "  (0, 18405)\t1\n",
      "  (0, 19157)\t1\n",
      "  (0, 22375)\t1\n",
      "  (0, 24750)\t2\n",
      "  (0, 28902)\t1\n",
      "  (0, 29758)\t1\n"
     ]
    }
   ],
   "source": [
    "tfidf_transformer = TfidfTransformer().fit(bow_reviews)\n",
    "tfidf_rev4 = tfidf_transformer.transform(bow_msg4)\n",
    "print(bow_msg4)"
   ]
  },
  {
   "cell_type": "code",
   "execution_count": 49,
   "id": "d0889d2e",
   "metadata": {},
   "outputs": [
    {
     "name": "stdout",
     "output_type": "stream",
     "text": [
      "10.702716852073644\n",
      "2.614615699396727\n"
     ]
    }
   ],
   "source": [
    "print(tfidf_transformer.idf_[bow_transformer.vocabulary_['mango']])\n",
    "print(tfidf_transformer.idf_[bow_transformer.vocabulary_['book']])"
   ]
  },
  {
   "cell_type": "code",
   "execution_count": 50,
   "id": "e607d606",
   "metadata": {},
   "outputs": [
    {
     "name": "stdout",
     "output_type": "stream",
     "text": [
      "Shape: (32723, 31611)\n",
      "No. of Dimensions: 2\n"
     ]
    }
   ],
   "source": [
    "tfidf_reviews = tfidf_transformer.transform(bow_reviews)\n",
    "print(\"Shape:\",tfidf_reviews.shape)\n",
    "print(\"No. of Dimensions:\",tfidf_reviews.ndim)"
   ]
  },
  {
   "cell_type": "markdown",
   "id": "a43ef2db",
   "metadata": {},
   "source": [
    "# Creating training and testing data"
   ]
  },
  {
   "cell_type": "code",
   "execution_count": 51,
   "id": "701f7077",
   "metadata": {},
   "outputs": [],
   "source": [
    "review_train, review_test, label_train, label_test = train_test_split(df['text_'],df['label'],test_size=0.35)"
   ]
  },
  {
   "cell_type": "code",
   "execution_count": 52,
   "id": "83f3d9cf",
   "metadata": {},
   "outputs": [],
   "source": [
    "pipeline = Pipeline([\n",
    "    ('bow',CountVectorizer(analyzer=text_process)),\n",
    "    ('tfidf',TfidfTransformer()),\n",
    "    ('classifier',MultinomialNB())\n",
    "])"
   ]
  },
  {
   "cell_type": "markdown",
   "id": "2e0f8333",
   "metadata": {},
   "source": [
    "# Training and testing Multinomial Naive Bayes Algorithm on the preprocessed data"
   ]
  },
  {
   "cell_type": "code",
   "execution_count": 53,
   "id": "b92c1ccf",
   "metadata": {},
   "outputs": [
    {
     "data": {
      "text/html": [
       "<style>#sk-container-id-2 {color: black;background-color: white;}#sk-container-id-2 pre{padding: 0;}#sk-container-id-2 div.sk-toggleable {background-color: white;}#sk-container-id-2 label.sk-toggleable__label {cursor: pointer;display: block;width: 100%;margin-bottom: 0;padding: 0.3em;box-sizing: border-box;text-align: center;}#sk-container-id-2 label.sk-toggleable__label-arrow:before {content: \"▸\";float: left;margin-right: 0.25em;color: #696969;}#sk-container-id-2 label.sk-toggleable__label-arrow:hover:before {color: black;}#sk-container-id-2 div.sk-estimator:hover label.sk-toggleable__label-arrow:before {color: black;}#sk-container-id-2 div.sk-toggleable__content {max-height: 0;max-width: 0;overflow: hidden;text-align: left;background-color: #f0f8ff;}#sk-container-id-2 div.sk-toggleable__content pre {margin: 0.2em;color: black;border-radius: 0.25em;background-color: #f0f8ff;}#sk-container-id-2 input.sk-toggleable__control:checked~div.sk-toggleable__content {max-height: 200px;max-width: 100%;overflow: auto;}#sk-container-id-2 input.sk-toggleable__control:checked~label.sk-toggleable__label-arrow:before {content: \"▾\";}#sk-container-id-2 div.sk-estimator input.sk-toggleable__control:checked~label.sk-toggleable__label {background-color: #d4ebff;}#sk-container-id-2 div.sk-label input.sk-toggleable__control:checked~label.sk-toggleable__label {background-color: #d4ebff;}#sk-container-id-2 input.sk-hidden--visually {border: 0;clip: rect(1px 1px 1px 1px);clip: rect(1px, 1px, 1px, 1px);height: 1px;margin: -1px;overflow: hidden;padding: 0;position: absolute;width: 1px;}#sk-container-id-2 div.sk-estimator {font-family: monospace;background-color: #f0f8ff;border: 1px dotted black;border-radius: 0.25em;box-sizing: border-box;margin-bottom: 0.5em;}#sk-container-id-2 div.sk-estimator:hover {background-color: #d4ebff;}#sk-container-id-2 div.sk-parallel-item::after {content: \"\";width: 100%;border-bottom: 1px solid gray;flex-grow: 1;}#sk-container-id-2 div.sk-label:hover label.sk-toggleable__label {background-color: #d4ebff;}#sk-container-id-2 div.sk-serial::before {content: \"\";position: absolute;border-left: 1px solid gray;box-sizing: border-box;top: 0;bottom: 0;left: 50%;z-index: 0;}#sk-container-id-2 div.sk-serial {display: flex;flex-direction: column;align-items: center;background-color: white;padding-right: 0.2em;padding-left: 0.2em;position: relative;}#sk-container-id-2 div.sk-item {position: relative;z-index: 1;}#sk-container-id-2 div.sk-parallel {display: flex;align-items: stretch;justify-content: center;background-color: white;position: relative;}#sk-container-id-2 div.sk-item::before, #sk-container-id-2 div.sk-parallel-item::before {content: \"\";position: absolute;border-left: 1px solid gray;box-sizing: border-box;top: 0;bottom: 0;left: 50%;z-index: -1;}#sk-container-id-2 div.sk-parallel-item {display: flex;flex-direction: column;z-index: 1;position: relative;background-color: white;}#sk-container-id-2 div.sk-parallel-item:first-child::after {align-self: flex-end;width: 50%;}#sk-container-id-2 div.sk-parallel-item:last-child::after {align-self: flex-start;width: 50%;}#sk-container-id-2 div.sk-parallel-item:only-child::after {width: 0;}#sk-container-id-2 div.sk-dashed-wrapped {border: 1px dashed gray;margin: 0 0.4em 0.5em 0.4em;box-sizing: border-box;padding-bottom: 0.4em;background-color: white;}#sk-container-id-2 div.sk-label label {font-family: monospace;font-weight: bold;display: inline-block;line-height: 1.2em;}#sk-container-id-2 div.sk-label-container {text-align: center;}#sk-container-id-2 div.sk-container {/* jupyter's `normalize.less` sets `[hidden] { display: none; }` but bootstrap.min.css set `[hidden] { display: none !important; }` so we also need the `!important` here to be able to override the default hidden behavior on the sphinx rendered scikit-learn.org. See: https://github.com/scikit-learn/scikit-learn/issues/21755 */display: inline-block !important;position: relative;}#sk-container-id-2 div.sk-text-repr-fallback {display: none;}</style><div id=\"sk-container-id-2\" class=\"sk-top-container\"><div class=\"sk-text-repr-fallback\"><pre>Pipeline(steps=[(&#x27;bow&#x27;,\n",
       "                 CountVectorizer(analyzer=&lt;function text_process at 0x000001CAE205E480&gt;)),\n",
       "                (&#x27;tfidf&#x27;, TfidfTransformer()),\n",
       "                (&#x27;classifier&#x27;, MultinomialNB())])</pre><b>In a Jupyter environment, please rerun this cell to show the HTML representation or trust the notebook. <br />On GitHub, the HTML representation is unable to render, please try loading this page with nbviewer.org.</b></div><div class=\"sk-container\" hidden><div class=\"sk-item sk-dashed-wrapped\"><div class=\"sk-label-container\"><div class=\"sk-label sk-toggleable\"><input class=\"sk-toggleable__control sk-hidden--visually\" id=\"sk-estimator-id-2\" type=\"checkbox\" ><label for=\"sk-estimator-id-2\" class=\"sk-toggleable__label sk-toggleable__label-arrow\">Pipeline</label><div class=\"sk-toggleable__content\"><pre>Pipeline(steps=[(&#x27;bow&#x27;,\n",
       "                 CountVectorizer(analyzer=&lt;function text_process at 0x000001CAE205E480&gt;)),\n",
       "                (&#x27;tfidf&#x27;, TfidfTransformer()),\n",
       "                (&#x27;classifier&#x27;, MultinomialNB())])</pre></div></div></div><div class=\"sk-serial\"><div class=\"sk-item\"><div class=\"sk-estimator sk-toggleable\"><input class=\"sk-toggleable__control sk-hidden--visually\" id=\"sk-estimator-id-3\" type=\"checkbox\" ><label for=\"sk-estimator-id-3\" class=\"sk-toggleable__label sk-toggleable__label-arrow\">CountVectorizer</label><div class=\"sk-toggleable__content\"><pre>CountVectorizer(analyzer=&lt;function text_process at 0x000001CAE205E480&gt;)</pre></div></div></div><div class=\"sk-item\"><div class=\"sk-estimator sk-toggleable\"><input class=\"sk-toggleable__control sk-hidden--visually\" id=\"sk-estimator-id-4\" type=\"checkbox\" ><label for=\"sk-estimator-id-4\" class=\"sk-toggleable__label sk-toggleable__label-arrow\">TfidfTransformer</label><div class=\"sk-toggleable__content\"><pre>TfidfTransformer()</pre></div></div></div><div class=\"sk-item\"><div class=\"sk-estimator sk-toggleable\"><input class=\"sk-toggleable__control sk-hidden--visually\" id=\"sk-estimator-id-5\" type=\"checkbox\" ><label for=\"sk-estimator-id-5\" class=\"sk-toggleable__label sk-toggleable__label-arrow\">MultinomialNB</label><div class=\"sk-toggleable__content\"><pre>MultinomialNB()</pre></div></div></div></div></div></div></div>"
      ],
      "text/plain": [
       "Pipeline(steps=[('bow',\n",
       "                 CountVectorizer(analyzer=<function text_process at 0x000001CAE205E480>)),\n",
       "                ('tfidf', TfidfTransformer()),\n",
       "                ('classifier', MultinomialNB())])"
      ]
     },
     "execution_count": 53,
     "metadata": {},
     "output_type": "execute_result"
    }
   ],
   "source": [
    "pipeline.fit(review_train,label_train)"
   ]
  },
  {
   "cell_type": "code",
   "execution_count": 54,
   "id": "3b1f6ec2",
   "metadata": {},
   "outputs": [
    {
     "data": {
      "text/plain": [
       "array(['OR', 'CG', 'OR', ..., 'CG', 'CG', 'OR'], dtype='<U2')"
      ]
     },
     "execution_count": 54,
     "metadata": {},
     "output_type": "execute_result"
    }
   ],
   "source": [
    "predictions = pipeline.predict(review_test)\n",
    "predictions"
   ]
  },
  {
   "cell_type": "code",
   "execution_count": 55,
   "id": "88d098fa",
   "metadata": {},
   "outputs": [
    {
     "name": "stdout",
     "output_type": "stream",
     "text": [
      "Classification Report:               precision    recall  f1-score   support\n",
      "\n",
      "          CG       0.81      0.89      0.85      5707\n",
      "          OR       0.88      0.79      0.83      5747\n",
      "\n",
      "    accuracy                           0.84     11454\n",
      "   macro avg       0.84      0.84      0.84     11454\n",
      "weighted avg       0.84      0.84      0.84     11454\n",
      "\n",
      "Confusion Matrix: [[5078  629]\n",
      " [1216 4531]]\n",
      "Accuracy Score: 0.8389209009952855\n"
     ]
    }
   ],
   "source": [
    "print('Classification Report:',classification_report(label_test,predictions))\n",
    "print('Confusion Matrix:',confusion_matrix(label_test,predictions))\n",
    "print('Accuracy Score:',accuracy_score(label_test,predictions))"
   ]
  },
  {
   "cell_type": "code",
   "execution_count": 56,
   "id": "f532cad3",
   "metadata": {},
   "outputs": [
    {
     "name": "stdout",
     "output_type": "stream",
     "text": [
      "Model Prediction Accuracy: 83.89%\n"
     ]
    }
   ],
   "source": [
    "print('Model Prediction Accuracy:',str(np.round(accuracy_score(label_test,predictions)*100,2)) + '%')"
   ]
  },
  {
   "cell_type": "code",
   "execution_count": 57,
   "id": "65e7ac21",
   "metadata": {},
   "outputs": [],
   "source": [
    "pipeline = Pipeline([\n",
    "    ('bow',CountVectorizer(analyzer=text_process)),\n",
    "    ('tfidf',TfidfTransformer()),\n",
    "    ('classifier',RandomForestClassifier())\n",
    "])"
   ]
  },
  {
   "cell_type": "code",
   "execution_count": 58,
   "id": "125093bc",
   "metadata": {},
   "outputs": [
    {
     "data": {
      "text/html": [
       "<style>#sk-container-id-3 {color: black;background-color: white;}#sk-container-id-3 pre{padding: 0;}#sk-container-id-3 div.sk-toggleable {background-color: white;}#sk-container-id-3 label.sk-toggleable__label {cursor: pointer;display: block;width: 100%;margin-bottom: 0;padding: 0.3em;box-sizing: border-box;text-align: center;}#sk-container-id-3 label.sk-toggleable__label-arrow:before {content: \"▸\";float: left;margin-right: 0.25em;color: #696969;}#sk-container-id-3 label.sk-toggleable__label-arrow:hover:before {color: black;}#sk-container-id-3 div.sk-estimator:hover label.sk-toggleable__label-arrow:before {color: black;}#sk-container-id-3 div.sk-toggleable__content {max-height: 0;max-width: 0;overflow: hidden;text-align: left;background-color: #f0f8ff;}#sk-container-id-3 div.sk-toggleable__content pre {margin: 0.2em;color: black;border-radius: 0.25em;background-color: #f0f8ff;}#sk-container-id-3 input.sk-toggleable__control:checked~div.sk-toggleable__content {max-height: 200px;max-width: 100%;overflow: auto;}#sk-container-id-3 input.sk-toggleable__control:checked~label.sk-toggleable__label-arrow:before {content: \"▾\";}#sk-container-id-3 div.sk-estimator input.sk-toggleable__control:checked~label.sk-toggleable__label {background-color: #d4ebff;}#sk-container-id-3 div.sk-label input.sk-toggleable__control:checked~label.sk-toggleable__label {background-color: #d4ebff;}#sk-container-id-3 input.sk-hidden--visually {border: 0;clip: rect(1px 1px 1px 1px);clip: rect(1px, 1px, 1px, 1px);height: 1px;margin: -1px;overflow: hidden;padding: 0;position: absolute;width: 1px;}#sk-container-id-3 div.sk-estimator {font-family: monospace;background-color: #f0f8ff;border: 1px dotted black;border-radius: 0.25em;box-sizing: border-box;margin-bottom: 0.5em;}#sk-container-id-3 div.sk-estimator:hover {background-color: #d4ebff;}#sk-container-id-3 div.sk-parallel-item::after {content: \"\";width: 100%;border-bottom: 1px solid gray;flex-grow: 1;}#sk-container-id-3 div.sk-label:hover label.sk-toggleable__label {background-color: #d4ebff;}#sk-container-id-3 div.sk-serial::before {content: \"\";position: absolute;border-left: 1px solid gray;box-sizing: border-box;top: 0;bottom: 0;left: 50%;z-index: 0;}#sk-container-id-3 div.sk-serial {display: flex;flex-direction: column;align-items: center;background-color: white;padding-right: 0.2em;padding-left: 0.2em;position: relative;}#sk-container-id-3 div.sk-item {position: relative;z-index: 1;}#sk-container-id-3 div.sk-parallel {display: flex;align-items: stretch;justify-content: center;background-color: white;position: relative;}#sk-container-id-3 div.sk-item::before, #sk-container-id-3 div.sk-parallel-item::before {content: \"\";position: absolute;border-left: 1px solid gray;box-sizing: border-box;top: 0;bottom: 0;left: 50%;z-index: -1;}#sk-container-id-3 div.sk-parallel-item {display: flex;flex-direction: column;z-index: 1;position: relative;background-color: white;}#sk-container-id-3 div.sk-parallel-item:first-child::after {align-self: flex-end;width: 50%;}#sk-container-id-3 div.sk-parallel-item:last-child::after {align-self: flex-start;width: 50%;}#sk-container-id-3 div.sk-parallel-item:only-child::after {width: 0;}#sk-container-id-3 div.sk-dashed-wrapped {border: 1px dashed gray;margin: 0 0.4em 0.5em 0.4em;box-sizing: border-box;padding-bottom: 0.4em;background-color: white;}#sk-container-id-3 div.sk-label label {font-family: monospace;font-weight: bold;display: inline-block;line-height: 1.2em;}#sk-container-id-3 div.sk-label-container {text-align: center;}#sk-container-id-3 div.sk-container {/* jupyter's `normalize.less` sets `[hidden] { display: none; }` but bootstrap.min.css set `[hidden] { display: none !important; }` so we also need the `!important` here to be able to override the default hidden behavior on the sphinx rendered scikit-learn.org. See: https://github.com/scikit-learn/scikit-learn/issues/21755 */display: inline-block !important;position: relative;}#sk-container-id-3 div.sk-text-repr-fallback {display: none;}</style><div id=\"sk-container-id-3\" class=\"sk-top-container\"><div class=\"sk-text-repr-fallback\"><pre>Pipeline(steps=[(&#x27;bow&#x27;,\n",
       "                 CountVectorizer(analyzer=&lt;function text_process at 0x000001CAE205E480&gt;)),\n",
       "                (&#x27;tfidf&#x27;, TfidfTransformer()),\n",
       "                (&#x27;classifier&#x27;, RandomForestClassifier())])</pre><b>In a Jupyter environment, please rerun this cell to show the HTML representation or trust the notebook. <br />On GitHub, the HTML representation is unable to render, please try loading this page with nbviewer.org.</b></div><div class=\"sk-container\" hidden><div class=\"sk-item sk-dashed-wrapped\"><div class=\"sk-label-container\"><div class=\"sk-label sk-toggleable\"><input class=\"sk-toggleable__control sk-hidden--visually\" id=\"sk-estimator-id-6\" type=\"checkbox\" ><label for=\"sk-estimator-id-6\" class=\"sk-toggleable__label sk-toggleable__label-arrow\">Pipeline</label><div class=\"sk-toggleable__content\"><pre>Pipeline(steps=[(&#x27;bow&#x27;,\n",
       "                 CountVectorizer(analyzer=&lt;function text_process at 0x000001CAE205E480&gt;)),\n",
       "                (&#x27;tfidf&#x27;, TfidfTransformer()),\n",
       "                (&#x27;classifier&#x27;, RandomForestClassifier())])</pre></div></div></div><div class=\"sk-serial\"><div class=\"sk-item\"><div class=\"sk-estimator sk-toggleable\"><input class=\"sk-toggleable__control sk-hidden--visually\" id=\"sk-estimator-id-7\" type=\"checkbox\" ><label for=\"sk-estimator-id-7\" class=\"sk-toggleable__label sk-toggleable__label-arrow\">CountVectorizer</label><div class=\"sk-toggleable__content\"><pre>CountVectorizer(analyzer=&lt;function text_process at 0x000001CAE205E480&gt;)</pre></div></div></div><div class=\"sk-item\"><div class=\"sk-estimator sk-toggleable\"><input class=\"sk-toggleable__control sk-hidden--visually\" id=\"sk-estimator-id-8\" type=\"checkbox\" ><label for=\"sk-estimator-id-8\" class=\"sk-toggleable__label sk-toggleable__label-arrow\">TfidfTransformer</label><div class=\"sk-toggleable__content\"><pre>TfidfTransformer()</pre></div></div></div><div class=\"sk-item\"><div class=\"sk-estimator sk-toggleable\"><input class=\"sk-toggleable__control sk-hidden--visually\" id=\"sk-estimator-id-9\" type=\"checkbox\" ><label for=\"sk-estimator-id-9\" class=\"sk-toggleable__label sk-toggleable__label-arrow\">RandomForestClassifier</label><div class=\"sk-toggleable__content\"><pre>RandomForestClassifier()</pre></div></div></div></div></div></div></div>"
      ],
      "text/plain": [
       "Pipeline(steps=[('bow',\n",
       "                 CountVectorizer(analyzer=<function text_process at 0x000001CAE205E480>)),\n",
       "                ('tfidf', TfidfTransformer()),\n",
       "                ('classifier', RandomForestClassifier())])"
      ]
     },
     "execution_count": 58,
     "metadata": {},
     "output_type": "execute_result"
    }
   ],
   "source": [
    "pipeline.fit(review_train,label_train)"
   ]
  },
  {
   "cell_type": "code",
   "execution_count": 59,
   "id": "4dde2b4d",
   "metadata": {},
   "outputs": [
    {
     "data": {
      "text/plain": [
       "array(['OR', 'CG', 'OR', ..., 'CG', 'CG', 'CG'], dtype=object)"
      ]
     },
     "execution_count": 59,
     "metadata": {},
     "output_type": "execute_result"
    }
   ],
   "source": [
    "rfc_pred = pipeline.predict(review_test)\n",
    "rfc_pred"
   ]
  },
  {
   "cell_type": "code",
   "execution_count": 60,
   "id": "7313a52b",
   "metadata": {},
   "outputs": [
    {
     "name": "stdout",
     "output_type": "stream",
     "text": [
      "Classification Report:               precision    recall  f1-score   support\n",
      "\n",
      "          CG       0.80      0.87      0.84      5707\n",
      "          OR       0.86      0.79      0.82      5747\n",
      "\n",
      "    accuracy                           0.83     11454\n",
      "   macro avg       0.83      0.83      0.83     11454\n",
      "weighted avg       0.83      0.83      0.83     11454\n",
      "\n",
      "Confusion Matrix: [[4993  714]\n",
      " [1215 4532]]\n",
      "Accuracy Score: 0.8315872184389733\n",
      "Model Prediction Accuracy: 83.16%\n"
     ]
    }
   ],
   "source": [
    "print('Classification Report:',classification_report(label_test,rfc_pred))\n",
    "print('Confusion Matrix:',confusion_matrix(label_test,rfc_pred))\n",
    "print('Accuracy Score:',accuracy_score(label_test,rfc_pred))\n",
    "print('Model Prediction Accuracy:',str(np.round(accuracy_score(label_test,rfc_pred)*100,2)) + '%')"
   ]
  },
  {
   "cell_type": "code",
   "execution_count": 61,
   "id": "b564d4e5",
   "metadata": {},
   "outputs": [],
   "source": [
    "pipeline = Pipeline([\n",
    "    ('bow',CountVectorizer(analyzer=text_process)),\n",
    "    ('tfidf',TfidfTransformer()),\n",
    "    ('classifier',DecisionTreeClassifier())\n",
    "])"
   ]
  },
  {
   "cell_type": "code",
   "execution_count": 62,
   "id": "b574baec",
   "metadata": {},
   "outputs": [
    {
     "data": {
      "text/html": [
       "<style>#sk-container-id-4 {color: black;background-color: white;}#sk-container-id-4 pre{padding: 0;}#sk-container-id-4 div.sk-toggleable {background-color: white;}#sk-container-id-4 label.sk-toggleable__label {cursor: pointer;display: block;width: 100%;margin-bottom: 0;padding: 0.3em;box-sizing: border-box;text-align: center;}#sk-container-id-4 label.sk-toggleable__label-arrow:before {content: \"▸\";float: left;margin-right: 0.25em;color: #696969;}#sk-container-id-4 label.sk-toggleable__label-arrow:hover:before {color: black;}#sk-container-id-4 div.sk-estimator:hover label.sk-toggleable__label-arrow:before {color: black;}#sk-container-id-4 div.sk-toggleable__content {max-height: 0;max-width: 0;overflow: hidden;text-align: left;background-color: #f0f8ff;}#sk-container-id-4 div.sk-toggleable__content pre {margin: 0.2em;color: black;border-radius: 0.25em;background-color: #f0f8ff;}#sk-container-id-4 input.sk-toggleable__control:checked~div.sk-toggleable__content {max-height: 200px;max-width: 100%;overflow: auto;}#sk-container-id-4 input.sk-toggleable__control:checked~label.sk-toggleable__label-arrow:before {content: \"▾\";}#sk-container-id-4 div.sk-estimator input.sk-toggleable__control:checked~label.sk-toggleable__label {background-color: #d4ebff;}#sk-container-id-4 div.sk-label input.sk-toggleable__control:checked~label.sk-toggleable__label {background-color: #d4ebff;}#sk-container-id-4 input.sk-hidden--visually {border: 0;clip: rect(1px 1px 1px 1px);clip: rect(1px, 1px, 1px, 1px);height: 1px;margin: -1px;overflow: hidden;padding: 0;position: absolute;width: 1px;}#sk-container-id-4 div.sk-estimator {font-family: monospace;background-color: #f0f8ff;border: 1px dotted black;border-radius: 0.25em;box-sizing: border-box;margin-bottom: 0.5em;}#sk-container-id-4 div.sk-estimator:hover {background-color: #d4ebff;}#sk-container-id-4 div.sk-parallel-item::after {content: \"\";width: 100%;border-bottom: 1px solid gray;flex-grow: 1;}#sk-container-id-4 div.sk-label:hover label.sk-toggleable__label {background-color: #d4ebff;}#sk-container-id-4 div.sk-serial::before {content: \"\";position: absolute;border-left: 1px solid gray;box-sizing: border-box;top: 0;bottom: 0;left: 50%;z-index: 0;}#sk-container-id-4 div.sk-serial {display: flex;flex-direction: column;align-items: center;background-color: white;padding-right: 0.2em;padding-left: 0.2em;position: relative;}#sk-container-id-4 div.sk-item {position: relative;z-index: 1;}#sk-container-id-4 div.sk-parallel {display: flex;align-items: stretch;justify-content: center;background-color: white;position: relative;}#sk-container-id-4 div.sk-item::before, #sk-container-id-4 div.sk-parallel-item::before {content: \"\";position: absolute;border-left: 1px solid gray;box-sizing: border-box;top: 0;bottom: 0;left: 50%;z-index: -1;}#sk-container-id-4 div.sk-parallel-item {display: flex;flex-direction: column;z-index: 1;position: relative;background-color: white;}#sk-container-id-4 div.sk-parallel-item:first-child::after {align-self: flex-end;width: 50%;}#sk-container-id-4 div.sk-parallel-item:last-child::after {align-self: flex-start;width: 50%;}#sk-container-id-4 div.sk-parallel-item:only-child::after {width: 0;}#sk-container-id-4 div.sk-dashed-wrapped {border: 1px dashed gray;margin: 0 0.4em 0.5em 0.4em;box-sizing: border-box;padding-bottom: 0.4em;background-color: white;}#sk-container-id-4 div.sk-label label {font-family: monospace;font-weight: bold;display: inline-block;line-height: 1.2em;}#sk-container-id-4 div.sk-label-container {text-align: center;}#sk-container-id-4 div.sk-container {/* jupyter's `normalize.less` sets `[hidden] { display: none; }` but bootstrap.min.css set `[hidden] { display: none !important; }` so we also need the `!important` here to be able to override the default hidden behavior on the sphinx rendered scikit-learn.org. See: https://github.com/scikit-learn/scikit-learn/issues/21755 */display: inline-block !important;position: relative;}#sk-container-id-4 div.sk-text-repr-fallback {display: none;}</style><div id=\"sk-container-id-4\" class=\"sk-top-container\"><div class=\"sk-text-repr-fallback\"><pre>Pipeline(steps=[(&#x27;bow&#x27;,\n",
       "                 CountVectorizer(analyzer=&lt;function text_process at 0x000001CAE205E480&gt;)),\n",
       "                (&#x27;tfidf&#x27;, TfidfTransformer()),\n",
       "                (&#x27;classifier&#x27;, DecisionTreeClassifier())])</pre><b>In a Jupyter environment, please rerun this cell to show the HTML representation or trust the notebook. <br />On GitHub, the HTML representation is unable to render, please try loading this page with nbviewer.org.</b></div><div class=\"sk-container\" hidden><div class=\"sk-item sk-dashed-wrapped\"><div class=\"sk-label-container\"><div class=\"sk-label sk-toggleable\"><input class=\"sk-toggleable__control sk-hidden--visually\" id=\"sk-estimator-id-10\" type=\"checkbox\" ><label for=\"sk-estimator-id-10\" class=\"sk-toggleable__label sk-toggleable__label-arrow\">Pipeline</label><div class=\"sk-toggleable__content\"><pre>Pipeline(steps=[(&#x27;bow&#x27;,\n",
       "                 CountVectorizer(analyzer=&lt;function text_process at 0x000001CAE205E480&gt;)),\n",
       "                (&#x27;tfidf&#x27;, TfidfTransformer()),\n",
       "                (&#x27;classifier&#x27;, DecisionTreeClassifier())])</pre></div></div></div><div class=\"sk-serial\"><div class=\"sk-item\"><div class=\"sk-estimator sk-toggleable\"><input class=\"sk-toggleable__control sk-hidden--visually\" id=\"sk-estimator-id-11\" type=\"checkbox\" ><label for=\"sk-estimator-id-11\" class=\"sk-toggleable__label sk-toggleable__label-arrow\">CountVectorizer</label><div class=\"sk-toggleable__content\"><pre>CountVectorizer(analyzer=&lt;function text_process at 0x000001CAE205E480&gt;)</pre></div></div></div><div class=\"sk-item\"><div class=\"sk-estimator sk-toggleable\"><input class=\"sk-toggleable__control sk-hidden--visually\" id=\"sk-estimator-id-12\" type=\"checkbox\" ><label for=\"sk-estimator-id-12\" class=\"sk-toggleable__label sk-toggleable__label-arrow\">TfidfTransformer</label><div class=\"sk-toggleable__content\"><pre>TfidfTransformer()</pre></div></div></div><div class=\"sk-item\"><div class=\"sk-estimator sk-toggleable\"><input class=\"sk-toggleable__control sk-hidden--visually\" id=\"sk-estimator-id-13\" type=\"checkbox\" ><label for=\"sk-estimator-id-13\" class=\"sk-toggleable__label sk-toggleable__label-arrow\">DecisionTreeClassifier</label><div class=\"sk-toggleable__content\"><pre>DecisionTreeClassifier()</pre></div></div></div></div></div></div></div>"
      ],
      "text/plain": [
       "Pipeline(steps=[('bow',\n",
       "                 CountVectorizer(analyzer=<function text_process at 0x000001CAE205E480>)),\n",
       "                ('tfidf', TfidfTransformer()),\n",
       "                ('classifier', DecisionTreeClassifier())])"
      ]
     },
     "execution_count": 62,
     "metadata": {},
     "output_type": "execute_result"
    }
   ],
   "source": [
    "pipeline.fit(review_train,label_train)"
   ]
  },
  {
   "cell_type": "code",
   "execution_count": 63,
   "id": "98646e52",
   "metadata": {},
   "outputs": [
    {
     "data": {
      "text/plain": [
       "array(['OR', 'CG', 'OR', ..., 'CG', 'CG', 'CG'], dtype=object)"
      ]
     },
     "execution_count": 63,
     "metadata": {},
     "output_type": "execute_result"
    }
   ],
   "source": [
    "dtree_pred = pipeline.predict(review_test)\n",
    "dtree_pred"
   ]
  },
  {
   "cell_type": "code",
   "execution_count": 64,
   "id": "a8dbe9f0",
   "metadata": {},
   "outputs": [
    {
     "name": "stdout",
     "output_type": "stream",
     "text": [
      "Classification Report:               precision    recall  f1-score   support\n",
      "\n",
      "          CG       0.72      0.74      0.73      5707\n",
      "          OR       0.73      0.71      0.72      5747\n",
      "\n",
      "    accuracy                           0.72     11454\n",
      "   macro avg       0.72      0.72      0.72     11454\n",
      "weighted avg       0.72      0.72      0.72     11454\n",
      "\n",
      "Confusion Matrix: [[4203 1504]\n",
      " [1648 4099]]\n",
      "Accuracy Score: 0.7248122926488563\n",
      "Model Prediction Accuracy: 72.48%\n"
     ]
    }
   ],
   "source": [
    "print('Classification Report:',classification_report(label_test,dtree_pred))\n",
    "print('Confusion Matrix:',confusion_matrix(label_test,dtree_pred))\n",
    "print('Accuracy Score:',accuracy_score(label_test,dtree_pred))\n",
    "print('Model Prediction Accuracy:',str(np.round(accuracy_score(label_test,dtree_pred)*100,2)) + '%')"
   ]
  },
  {
   "cell_type": "code",
   "execution_count": 65,
   "id": "7927a3f0",
   "metadata": {},
   "outputs": [],
   "source": [
    "pipeline = Pipeline([\n",
    "    ('bow',CountVectorizer(analyzer=text_process)),\n",
    "    ('tfidf',TfidfTransformer()),\n",
    "    ('classifier',KNeighborsClassifier(n_neighbors=2))\n",
    "])"
   ]
  },
  {
   "cell_type": "code",
   "execution_count": 66,
   "id": "6b9ad993",
   "metadata": {},
   "outputs": [
    {
     "data": {
      "text/html": [
       "<style>#sk-container-id-5 {color: black;background-color: white;}#sk-container-id-5 pre{padding: 0;}#sk-container-id-5 div.sk-toggleable {background-color: white;}#sk-container-id-5 label.sk-toggleable__label {cursor: pointer;display: block;width: 100%;margin-bottom: 0;padding: 0.3em;box-sizing: border-box;text-align: center;}#sk-container-id-5 label.sk-toggleable__label-arrow:before {content: \"▸\";float: left;margin-right: 0.25em;color: #696969;}#sk-container-id-5 label.sk-toggleable__label-arrow:hover:before {color: black;}#sk-container-id-5 div.sk-estimator:hover label.sk-toggleable__label-arrow:before {color: black;}#sk-container-id-5 div.sk-toggleable__content {max-height: 0;max-width: 0;overflow: hidden;text-align: left;background-color: #f0f8ff;}#sk-container-id-5 div.sk-toggleable__content pre {margin: 0.2em;color: black;border-radius: 0.25em;background-color: #f0f8ff;}#sk-container-id-5 input.sk-toggleable__control:checked~div.sk-toggleable__content {max-height: 200px;max-width: 100%;overflow: auto;}#sk-container-id-5 input.sk-toggleable__control:checked~label.sk-toggleable__label-arrow:before {content: \"▾\";}#sk-container-id-5 div.sk-estimator input.sk-toggleable__control:checked~label.sk-toggleable__label {background-color: #d4ebff;}#sk-container-id-5 div.sk-label input.sk-toggleable__control:checked~label.sk-toggleable__label {background-color: #d4ebff;}#sk-container-id-5 input.sk-hidden--visually {border: 0;clip: rect(1px 1px 1px 1px);clip: rect(1px, 1px, 1px, 1px);height: 1px;margin: -1px;overflow: hidden;padding: 0;position: absolute;width: 1px;}#sk-container-id-5 div.sk-estimator {font-family: monospace;background-color: #f0f8ff;border: 1px dotted black;border-radius: 0.25em;box-sizing: border-box;margin-bottom: 0.5em;}#sk-container-id-5 div.sk-estimator:hover {background-color: #d4ebff;}#sk-container-id-5 div.sk-parallel-item::after {content: \"\";width: 100%;border-bottom: 1px solid gray;flex-grow: 1;}#sk-container-id-5 div.sk-label:hover label.sk-toggleable__label {background-color: #d4ebff;}#sk-container-id-5 div.sk-serial::before {content: \"\";position: absolute;border-left: 1px solid gray;box-sizing: border-box;top: 0;bottom: 0;left: 50%;z-index: 0;}#sk-container-id-5 div.sk-serial {display: flex;flex-direction: column;align-items: center;background-color: white;padding-right: 0.2em;padding-left: 0.2em;position: relative;}#sk-container-id-5 div.sk-item {position: relative;z-index: 1;}#sk-container-id-5 div.sk-parallel {display: flex;align-items: stretch;justify-content: center;background-color: white;position: relative;}#sk-container-id-5 div.sk-item::before, #sk-container-id-5 div.sk-parallel-item::before {content: \"\";position: absolute;border-left: 1px solid gray;box-sizing: border-box;top: 0;bottom: 0;left: 50%;z-index: -1;}#sk-container-id-5 div.sk-parallel-item {display: flex;flex-direction: column;z-index: 1;position: relative;background-color: white;}#sk-container-id-5 div.sk-parallel-item:first-child::after {align-self: flex-end;width: 50%;}#sk-container-id-5 div.sk-parallel-item:last-child::after {align-self: flex-start;width: 50%;}#sk-container-id-5 div.sk-parallel-item:only-child::after {width: 0;}#sk-container-id-5 div.sk-dashed-wrapped {border: 1px dashed gray;margin: 0 0.4em 0.5em 0.4em;box-sizing: border-box;padding-bottom: 0.4em;background-color: white;}#sk-container-id-5 div.sk-label label {font-family: monospace;font-weight: bold;display: inline-block;line-height: 1.2em;}#sk-container-id-5 div.sk-label-container {text-align: center;}#sk-container-id-5 div.sk-container {/* jupyter's `normalize.less` sets `[hidden] { display: none; }` but bootstrap.min.css set `[hidden] { display: none !important; }` so we also need the `!important` here to be able to override the default hidden behavior on the sphinx rendered scikit-learn.org. See: https://github.com/scikit-learn/scikit-learn/issues/21755 */display: inline-block !important;position: relative;}#sk-container-id-5 div.sk-text-repr-fallback {display: none;}</style><div id=\"sk-container-id-5\" class=\"sk-top-container\"><div class=\"sk-text-repr-fallback\"><pre>Pipeline(steps=[(&#x27;bow&#x27;,\n",
       "                 CountVectorizer(analyzer=&lt;function text_process at 0x000001CAE205E480&gt;)),\n",
       "                (&#x27;tfidf&#x27;, TfidfTransformer()),\n",
       "                (&#x27;classifier&#x27;, KNeighborsClassifier(n_neighbors=2))])</pre><b>In a Jupyter environment, please rerun this cell to show the HTML representation or trust the notebook. <br />On GitHub, the HTML representation is unable to render, please try loading this page with nbviewer.org.</b></div><div class=\"sk-container\" hidden><div class=\"sk-item sk-dashed-wrapped\"><div class=\"sk-label-container\"><div class=\"sk-label sk-toggleable\"><input class=\"sk-toggleable__control sk-hidden--visually\" id=\"sk-estimator-id-14\" type=\"checkbox\" ><label for=\"sk-estimator-id-14\" class=\"sk-toggleable__label sk-toggleable__label-arrow\">Pipeline</label><div class=\"sk-toggleable__content\"><pre>Pipeline(steps=[(&#x27;bow&#x27;,\n",
       "                 CountVectorizer(analyzer=&lt;function text_process at 0x000001CAE205E480&gt;)),\n",
       "                (&#x27;tfidf&#x27;, TfidfTransformer()),\n",
       "                (&#x27;classifier&#x27;, KNeighborsClassifier(n_neighbors=2))])</pre></div></div></div><div class=\"sk-serial\"><div class=\"sk-item\"><div class=\"sk-estimator sk-toggleable\"><input class=\"sk-toggleable__control sk-hidden--visually\" id=\"sk-estimator-id-15\" type=\"checkbox\" ><label for=\"sk-estimator-id-15\" class=\"sk-toggleable__label sk-toggleable__label-arrow\">CountVectorizer</label><div class=\"sk-toggleable__content\"><pre>CountVectorizer(analyzer=&lt;function text_process at 0x000001CAE205E480&gt;)</pre></div></div></div><div class=\"sk-item\"><div class=\"sk-estimator sk-toggleable\"><input class=\"sk-toggleable__control sk-hidden--visually\" id=\"sk-estimator-id-16\" type=\"checkbox\" ><label for=\"sk-estimator-id-16\" class=\"sk-toggleable__label sk-toggleable__label-arrow\">TfidfTransformer</label><div class=\"sk-toggleable__content\"><pre>TfidfTransformer()</pre></div></div></div><div class=\"sk-item\"><div class=\"sk-estimator sk-toggleable\"><input class=\"sk-toggleable__control sk-hidden--visually\" id=\"sk-estimator-id-17\" type=\"checkbox\" ><label for=\"sk-estimator-id-17\" class=\"sk-toggleable__label sk-toggleable__label-arrow\">KNeighborsClassifier</label><div class=\"sk-toggleable__content\"><pre>KNeighborsClassifier(n_neighbors=2)</pre></div></div></div></div></div></div></div>"
      ],
      "text/plain": [
       "Pipeline(steps=[('bow',\n",
       "                 CountVectorizer(analyzer=<function text_process at 0x000001CAE205E480>)),\n",
       "                ('tfidf', TfidfTransformer()),\n",
       "                ('classifier', KNeighborsClassifier(n_neighbors=2))])"
      ]
     },
     "execution_count": 66,
     "metadata": {},
     "output_type": "execute_result"
    }
   ],
   "source": [
    "pipeline.fit(review_train,label_train)"
   ]
  },
  {
   "cell_type": "code",
   "execution_count": 67,
   "id": "2c7bf131",
   "metadata": {},
   "outputs": [
    {
     "data": {
      "text/plain": [
       "array(['CG', 'CG', 'CG', ..., 'CG', 'CG', 'CG'], dtype=object)"
      ]
     },
     "execution_count": 67,
     "metadata": {},
     "output_type": "execute_result"
    }
   ],
   "source": [
    "knn_pred = pipeline.predict(review_test)\n",
    "knn_pred"
   ]
  },
  {
   "cell_type": "code",
   "execution_count": 68,
   "id": "4cbd833a",
   "metadata": {},
   "outputs": [
    {
     "name": "stdout",
     "output_type": "stream",
     "text": [
      "Classification Report:               precision    recall  f1-score   support\n",
      "\n",
      "          CG       0.54      0.97      0.70      5707\n",
      "          OR       0.87      0.18      0.30      5747\n",
      "\n",
      "    accuracy                           0.58     11454\n",
      "   macro avg       0.70      0.58      0.50     11454\n",
      "weighted avg       0.71      0.58      0.50     11454\n",
      "\n",
      "Confusion Matrix: [[5549  158]\n",
      " [4703 1044]]\n",
      "Accuracy Score: 0.5756067749257902\n",
      "Model Prediction Accuracy: 57.56%\n"
     ]
    }
   ],
   "source": [
    "print('Classification Report:',classification_report(label_test,knn_pred))\n",
    "print('Confusion Matrix:',confusion_matrix(label_test,knn_pred))\n",
    "print('Accuracy Score:',accuracy_score(label_test,knn_pred))\n",
    "print('Model Prediction Accuracy:',str(np.round(accuracy_score(label_test,knn_pred)*100,2)) + '%')"
   ]
  },
  {
   "cell_type": "code",
   "execution_count": 69,
   "id": "fe30bcf4",
   "metadata": {},
   "outputs": [],
   "source": [
    "pipeline = Pipeline([\n",
    "    ('bow',CountVectorizer(analyzer=text_process)),\n",
    "    ('tfidf',TfidfTransformer()),\n",
    "    ('classifier',SVC())\n",
    "])"
   ]
  },
  {
   "cell_type": "code",
   "execution_count": 70,
   "id": "91d40c43",
   "metadata": {},
   "outputs": [
    {
     "data": {
      "text/html": [
       "<style>#sk-container-id-6 {color: black;background-color: white;}#sk-container-id-6 pre{padding: 0;}#sk-container-id-6 div.sk-toggleable {background-color: white;}#sk-container-id-6 label.sk-toggleable__label {cursor: pointer;display: block;width: 100%;margin-bottom: 0;padding: 0.3em;box-sizing: border-box;text-align: center;}#sk-container-id-6 label.sk-toggleable__label-arrow:before {content: \"▸\";float: left;margin-right: 0.25em;color: #696969;}#sk-container-id-6 label.sk-toggleable__label-arrow:hover:before {color: black;}#sk-container-id-6 div.sk-estimator:hover label.sk-toggleable__label-arrow:before {color: black;}#sk-container-id-6 div.sk-toggleable__content {max-height: 0;max-width: 0;overflow: hidden;text-align: left;background-color: #f0f8ff;}#sk-container-id-6 div.sk-toggleable__content pre {margin: 0.2em;color: black;border-radius: 0.25em;background-color: #f0f8ff;}#sk-container-id-6 input.sk-toggleable__control:checked~div.sk-toggleable__content {max-height: 200px;max-width: 100%;overflow: auto;}#sk-container-id-6 input.sk-toggleable__control:checked~label.sk-toggleable__label-arrow:before {content: \"▾\";}#sk-container-id-6 div.sk-estimator input.sk-toggleable__control:checked~label.sk-toggleable__label {background-color: #d4ebff;}#sk-container-id-6 div.sk-label input.sk-toggleable__control:checked~label.sk-toggleable__label {background-color: #d4ebff;}#sk-container-id-6 input.sk-hidden--visually {border: 0;clip: rect(1px 1px 1px 1px);clip: rect(1px, 1px, 1px, 1px);height: 1px;margin: -1px;overflow: hidden;padding: 0;position: absolute;width: 1px;}#sk-container-id-6 div.sk-estimator {font-family: monospace;background-color: #f0f8ff;border: 1px dotted black;border-radius: 0.25em;box-sizing: border-box;margin-bottom: 0.5em;}#sk-container-id-6 div.sk-estimator:hover {background-color: #d4ebff;}#sk-container-id-6 div.sk-parallel-item::after {content: \"\";width: 100%;border-bottom: 1px solid gray;flex-grow: 1;}#sk-container-id-6 div.sk-label:hover label.sk-toggleable__label {background-color: #d4ebff;}#sk-container-id-6 div.sk-serial::before {content: \"\";position: absolute;border-left: 1px solid gray;box-sizing: border-box;top: 0;bottom: 0;left: 50%;z-index: 0;}#sk-container-id-6 div.sk-serial {display: flex;flex-direction: column;align-items: center;background-color: white;padding-right: 0.2em;padding-left: 0.2em;position: relative;}#sk-container-id-6 div.sk-item {position: relative;z-index: 1;}#sk-container-id-6 div.sk-parallel {display: flex;align-items: stretch;justify-content: center;background-color: white;position: relative;}#sk-container-id-6 div.sk-item::before, #sk-container-id-6 div.sk-parallel-item::before {content: \"\";position: absolute;border-left: 1px solid gray;box-sizing: border-box;top: 0;bottom: 0;left: 50%;z-index: -1;}#sk-container-id-6 div.sk-parallel-item {display: flex;flex-direction: column;z-index: 1;position: relative;background-color: white;}#sk-container-id-6 div.sk-parallel-item:first-child::after {align-self: flex-end;width: 50%;}#sk-container-id-6 div.sk-parallel-item:last-child::after {align-self: flex-start;width: 50%;}#sk-container-id-6 div.sk-parallel-item:only-child::after {width: 0;}#sk-container-id-6 div.sk-dashed-wrapped {border: 1px dashed gray;margin: 0 0.4em 0.5em 0.4em;box-sizing: border-box;padding-bottom: 0.4em;background-color: white;}#sk-container-id-6 div.sk-label label {font-family: monospace;font-weight: bold;display: inline-block;line-height: 1.2em;}#sk-container-id-6 div.sk-label-container {text-align: center;}#sk-container-id-6 div.sk-container {/* jupyter's `normalize.less` sets `[hidden] { display: none; }` but bootstrap.min.css set `[hidden] { display: none !important; }` so we also need the `!important` here to be able to override the default hidden behavior on the sphinx rendered scikit-learn.org. See: https://github.com/scikit-learn/scikit-learn/issues/21755 */display: inline-block !important;position: relative;}#sk-container-id-6 div.sk-text-repr-fallback {display: none;}</style><div id=\"sk-container-id-6\" class=\"sk-top-container\"><div class=\"sk-text-repr-fallback\"><pre>Pipeline(steps=[(&#x27;bow&#x27;,\n",
       "                 CountVectorizer(analyzer=&lt;function text_process at 0x000001CAE205E480&gt;)),\n",
       "                (&#x27;tfidf&#x27;, TfidfTransformer()), (&#x27;classifier&#x27;, SVC())])</pre><b>In a Jupyter environment, please rerun this cell to show the HTML representation or trust the notebook. <br />On GitHub, the HTML representation is unable to render, please try loading this page with nbviewer.org.</b></div><div class=\"sk-container\" hidden><div class=\"sk-item sk-dashed-wrapped\"><div class=\"sk-label-container\"><div class=\"sk-label sk-toggleable\"><input class=\"sk-toggleable__control sk-hidden--visually\" id=\"sk-estimator-id-18\" type=\"checkbox\" ><label for=\"sk-estimator-id-18\" class=\"sk-toggleable__label sk-toggleable__label-arrow\">Pipeline</label><div class=\"sk-toggleable__content\"><pre>Pipeline(steps=[(&#x27;bow&#x27;,\n",
       "                 CountVectorizer(analyzer=&lt;function text_process at 0x000001CAE205E480&gt;)),\n",
       "                (&#x27;tfidf&#x27;, TfidfTransformer()), (&#x27;classifier&#x27;, SVC())])</pre></div></div></div><div class=\"sk-serial\"><div class=\"sk-item\"><div class=\"sk-estimator sk-toggleable\"><input class=\"sk-toggleable__control sk-hidden--visually\" id=\"sk-estimator-id-19\" type=\"checkbox\" ><label for=\"sk-estimator-id-19\" class=\"sk-toggleable__label sk-toggleable__label-arrow\">CountVectorizer</label><div class=\"sk-toggleable__content\"><pre>CountVectorizer(analyzer=&lt;function text_process at 0x000001CAE205E480&gt;)</pre></div></div></div><div class=\"sk-item\"><div class=\"sk-estimator sk-toggleable\"><input class=\"sk-toggleable__control sk-hidden--visually\" id=\"sk-estimator-id-20\" type=\"checkbox\" ><label for=\"sk-estimator-id-20\" class=\"sk-toggleable__label sk-toggleable__label-arrow\">TfidfTransformer</label><div class=\"sk-toggleable__content\"><pre>TfidfTransformer()</pre></div></div></div><div class=\"sk-item\"><div class=\"sk-estimator sk-toggleable\"><input class=\"sk-toggleable__control sk-hidden--visually\" id=\"sk-estimator-id-21\" type=\"checkbox\" ><label for=\"sk-estimator-id-21\" class=\"sk-toggleable__label sk-toggleable__label-arrow\">SVC</label><div class=\"sk-toggleable__content\"><pre>SVC()</pre></div></div></div></div></div></div></div>"
      ],
      "text/plain": [
       "Pipeline(steps=[('bow',\n",
       "                 CountVectorizer(analyzer=<function text_process at 0x000001CAE205E480>)),\n",
       "                ('tfidf', TfidfTransformer()), ('classifier', SVC())])"
      ]
     },
     "execution_count": 70,
     "metadata": {},
     "output_type": "execute_result"
    }
   ],
   "source": [
    "pipeline.fit(review_train,label_train)"
   ]
  },
  {
   "cell_type": "code",
   "execution_count": 71,
   "id": "8830f5d7",
   "metadata": {},
   "outputs": [
    {
     "data": {
      "text/plain": [
       "array(['OR', 'OR', 'OR', ..., 'CG', 'CG', 'OR'], dtype=object)"
      ]
     },
     "execution_count": 71,
     "metadata": {},
     "output_type": "execute_result"
    }
   ],
   "source": [
    "svc_pred = pipeline.predict(review_test)\n",
    "svc_pred"
   ]
  },
  {
   "cell_type": "code",
   "execution_count": 72,
   "id": "37d27fd0",
   "metadata": {},
   "outputs": [
    {
     "name": "stdout",
     "output_type": "stream",
     "text": [
      "Classification Report:               precision    recall  f1-score   support\n",
      "\n",
      "          CG       0.89      0.86      0.87      5707\n",
      "          OR       0.86      0.89      0.88      5747\n",
      "\n",
      "    accuracy                           0.87     11454\n",
      "   macro avg       0.87      0.87      0.87     11454\n",
      "weighted avg       0.87      0.87      0.87     11454\n",
      "\n",
      "Confusion Matrix: [[4880  827]\n",
      " [ 633 5114]]\n",
      "Accuracy Score: 0.8725336127117165\n",
      "Model Prediction Accuracy: 87.25%\n"
     ]
    }
   ],
   "source": [
    "print('Classification Report:',classification_report(label_test,svc_pred))\n",
    "print('Confusion Matrix:',confusion_matrix(label_test,svc_pred))\n",
    "print('Accuracy Score:',accuracy_score(label_test,svc_pred))\n",
    "print('Model Prediction Accuracy:',str(np.round(accuracy_score(label_test,svc_pred)*100,2)) + '%')"
   ]
  },
  {
   "cell_type": "code",
   "execution_count": 73,
   "id": "8ddd2c45",
   "metadata": {},
   "outputs": [],
   "source": [
    "pipeline = Pipeline([\n",
    "    ('bow',CountVectorizer(analyzer=text_process)),\n",
    "    ('tfidf',TfidfTransformer()),\n",
    "    ('classifier',LogisticRegression())\n",
    "])"
   ]
  },
  {
   "cell_type": "code",
   "execution_count": 74,
   "id": "8df310bd",
   "metadata": {},
   "outputs": [
    {
     "data": {
      "text/html": [
       "<style>#sk-container-id-7 {color: black;background-color: white;}#sk-container-id-7 pre{padding: 0;}#sk-container-id-7 div.sk-toggleable {background-color: white;}#sk-container-id-7 label.sk-toggleable__label {cursor: pointer;display: block;width: 100%;margin-bottom: 0;padding: 0.3em;box-sizing: border-box;text-align: center;}#sk-container-id-7 label.sk-toggleable__label-arrow:before {content: \"▸\";float: left;margin-right: 0.25em;color: #696969;}#sk-container-id-7 label.sk-toggleable__label-arrow:hover:before {color: black;}#sk-container-id-7 div.sk-estimator:hover label.sk-toggleable__label-arrow:before {color: black;}#sk-container-id-7 div.sk-toggleable__content {max-height: 0;max-width: 0;overflow: hidden;text-align: left;background-color: #f0f8ff;}#sk-container-id-7 div.sk-toggleable__content pre {margin: 0.2em;color: black;border-radius: 0.25em;background-color: #f0f8ff;}#sk-container-id-7 input.sk-toggleable__control:checked~div.sk-toggleable__content {max-height: 200px;max-width: 100%;overflow: auto;}#sk-container-id-7 input.sk-toggleable__control:checked~label.sk-toggleable__label-arrow:before {content: \"▾\";}#sk-container-id-7 div.sk-estimator input.sk-toggleable__control:checked~label.sk-toggleable__label {background-color: #d4ebff;}#sk-container-id-7 div.sk-label input.sk-toggleable__control:checked~label.sk-toggleable__label {background-color: #d4ebff;}#sk-container-id-7 input.sk-hidden--visually {border: 0;clip: rect(1px 1px 1px 1px);clip: rect(1px, 1px, 1px, 1px);height: 1px;margin: -1px;overflow: hidden;padding: 0;position: absolute;width: 1px;}#sk-container-id-7 div.sk-estimator {font-family: monospace;background-color: #f0f8ff;border: 1px dotted black;border-radius: 0.25em;box-sizing: border-box;margin-bottom: 0.5em;}#sk-container-id-7 div.sk-estimator:hover {background-color: #d4ebff;}#sk-container-id-7 div.sk-parallel-item::after {content: \"\";width: 100%;border-bottom: 1px solid gray;flex-grow: 1;}#sk-container-id-7 div.sk-label:hover label.sk-toggleable__label {background-color: #d4ebff;}#sk-container-id-7 div.sk-serial::before {content: \"\";position: absolute;border-left: 1px solid gray;box-sizing: border-box;top: 0;bottom: 0;left: 50%;z-index: 0;}#sk-container-id-7 div.sk-serial {display: flex;flex-direction: column;align-items: center;background-color: white;padding-right: 0.2em;padding-left: 0.2em;position: relative;}#sk-container-id-7 div.sk-item {position: relative;z-index: 1;}#sk-container-id-7 div.sk-parallel {display: flex;align-items: stretch;justify-content: center;background-color: white;position: relative;}#sk-container-id-7 div.sk-item::before, #sk-container-id-7 div.sk-parallel-item::before {content: \"\";position: absolute;border-left: 1px solid gray;box-sizing: border-box;top: 0;bottom: 0;left: 50%;z-index: -1;}#sk-container-id-7 div.sk-parallel-item {display: flex;flex-direction: column;z-index: 1;position: relative;background-color: white;}#sk-container-id-7 div.sk-parallel-item:first-child::after {align-self: flex-end;width: 50%;}#sk-container-id-7 div.sk-parallel-item:last-child::after {align-self: flex-start;width: 50%;}#sk-container-id-7 div.sk-parallel-item:only-child::after {width: 0;}#sk-container-id-7 div.sk-dashed-wrapped {border: 1px dashed gray;margin: 0 0.4em 0.5em 0.4em;box-sizing: border-box;padding-bottom: 0.4em;background-color: white;}#sk-container-id-7 div.sk-label label {font-family: monospace;font-weight: bold;display: inline-block;line-height: 1.2em;}#sk-container-id-7 div.sk-label-container {text-align: center;}#sk-container-id-7 div.sk-container {/* jupyter's `normalize.less` sets `[hidden] { display: none; }` but bootstrap.min.css set `[hidden] { display: none !important; }` so we also need the `!important` here to be able to override the default hidden behavior on the sphinx rendered scikit-learn.org. See: https://github.com/scikit-learn/scikit-learn/issues/21755 */display: inline-block !important;position: relative;}#sk-container-id-7 div.sk-text-repr-fallback {display: none;}</style><div id=\"sk-container-id-7\" class=\"sk-top-container\"><div class=\"sk-text-repr-fallback\"><pre>Pipeline(steps=[(&#x27;bow&#x27;,\n",
       "                 CountVectorizer(analyzer=&lt;function text_process at 0x000001CAE205E480&gt;)),\n",
       "                (&#x27;tfidf&#x27;, TfidfTransformer()),\n",
       "                (&#x27;classifier&#x27;, LogisticRegression())])</pre><b>In a Jupyter environment, please rerun this cell to show the HTML representation or trust the notebook. <br />On GitHub, the HTML representation is unable to render, please try loading this page with nbviewer.org.</b></div><div class=\"sk-container\" hidden><div class=\"sk-item sk-dashed-wrapped\"><div class=\"sk-label-container\"><div class=\"sk-label sk-toggleable\"><input class=\"sk-toggleable__control sk-hidden--visually\" id=\"sk-estimator-id-22\" type=\"checkbox\" ><label for=\"sk-estimator-id-22\" class=\"sk-toggleable__label sk-toggleable__label-arrow\">Pipeline</label><div class=\"sk-toggleable__content\"><pre>Pipeline(steps=[(&#x27;bow&#x27;,\n",
       "                 CountVectorizer(analyzer=&lt;function text_process at 0x000001CAE205E480&gt;)),\n",
       "                (&#x27;tfidf&#x27;, TfidfTransformer()),\n",
       "                (&#x27;classifier&#x27;, LogisticRegression())])</pre></div></div></div><div class=\"sk-serial\"><div class=\"sk-item\"><div class=\"sk-estimator sk-toggleable\"><input class=\"sk-toggleable__control sk-hidden--visually\" id=\"sk-estimator-id-23\" type=\"checkbox\" ><label for=\"sk-estimator-id-23\" class=\"sk-toggleable__label sk-toggleable__label-arrow\">CountVectorizer</label><div class=\"sk-toggleable__content\"><pre>CountVectorizer(analyzer=&lt;function text_process at 0x000001CAE205E480&gt;)</pre></div></div></div><div class=\"sk-item\"><div class=\"sk-estimator sk-toggleable\"><input class=\"sk-toggleable__control sk-hidden--visually\" id=\"sk-estimator-id-24\" type=\"checkbox\" ><label for=\"sk-estimator-id-24\" class=\"sk-toggleable__label sk-toggleable__label-arrow\">TfidfTransformer</label><div class=\"sk-toggleable__content\"><pre>TfidfTransformer()</pre></div></div></div><div class=\"sk-item\"><div class=\"sk-estimator sk-toggleable\"><input class=\"sk-toggleable__control sk-hidden--visually\" id=\"sk-estimator-id-25\" type=\"checkbox\" ><label for=\"sk-estimator-id-25\" class=\"sk-toggleable__label sk-toggleable__label-arrow\">LogisticRegression</label><div class=\"sk-toggleable__content\"><pre>LogisticRegression()</pre></div></div></div></div></div></div></div>"
      ],
      "text/plain": [
       "Pipeline(steps=[('bow',\n",
       "                 CountVectorizer(analyzer=<function text_process at 0x000001CAE205E480>)),\n",
       "                ('tfidf', TfidfTransformer()),\n",
       "                ('classifier', LogisticRegression())])"
      ]
     },
     "execution_count": 74,
     "metadata": {},
     "output_type": "execute_result"
    }
   ],
   "source": [
    "pipeline.fit(review_train,label_train)"
   ]
  },
  {
   "cell_type": "code",
   "execution_count": 75,
   "id": "53874388",
   "metadata": {},
   "outputs": [
    {
     "data": {
      "text/plain": [
       "array(['OR', 'CG', 'OR', ..., 'CG', 'CG', 'OR'], dtype=object)"
      ]
     },
     "execution_count": 75,
     "metadata": {},
     "output_type": "execute_result"
    }
   ],
   "source": [
    "lr_pred = pipeline.predict(review_test)\n",
    "lr_pred"
   ]
  },
  {
   "cell_type": "code",
   "execution_count": 76,
   "id": "22c38d51",
   "metadata": {},
   "outputs": [
    {
     "name": "stdout",
     "output_type": "stream",
     "text": [
      "Classification Report:               precision    recall  f1-score   support\n",
      "\n",
      "          CG       0.86      0.84      0.85      5707\n",
      "          OR       0.85      0.86      0.86      5747\n",
      "\n",
      "    accuracy                           0.85     11454\n",
      "   macro avg       0.85      0.85      0.85     11454\n",
      "weighted avg       0.85      0.85      0.85     11454\n",
      "\n",
      "Confusion Matrix: [[4808  899]\n",
      " [ 784 4963]]\n",
      "Accuracy Score: 0.8530644316396019\n",
      "Model Prediction Accuracy: 85.31%\n"
     ]
    }
   ],
   "source": [
    "print('Classification Report:',classification_report(label_test,lr_pred))\n",
    "print('Confusion Matrix:',confusion_matrix(label_test,lr_pred))\n",
    "print('Accuracy Score:',accuracy_score(label_test,lr_pred))\n",
    "print('Model Prediction Accuracy:',str(np.round(accuracy_score(label_test,lr_pred)*100,2)) + '%')"
   ]
  },
  {
   "cell_type": "markdown",
   "id": "e3407e64",
   "metadata": {},
   "source": [
    "# Conclusion"
   ]
  },
  {
   "cell_type": "code",
   "execution_count": 78,
   "id": "61e0503a",
   "metadata": {},
   "outputs": [
    {
     "name": "stdout",
     "output_type": "stream",
     "text": [
      "Performance of various ML models:\n",
      "\n",
      "\n",
      "Logistic Regression Prediction Accuracy: 85.31%\n",
      "K Nearest Neighbors Prediction Accuracy: 57.56%\n",
      "Decision Tree Classifier Prediction Accuracy: 72.48%\n",
      "Random Forests Classifier Prediction Accuracy: 83.16%\n",
      "Support Vector Machines Prediction Accuracy: 87.25%\n",
      "Multinomial Naive Bayes Prediction Accuracy: 83.89%\n"
     ]
    }
   ],
   "source": [
    "print('Performance of various ML models:')\n",
    "print('\\n')\n",
    "print('Logistic Regression Prediction Accuracy:',str(np.round(accuracy_score(label_test,lr_pred)*100,2)) + '%')\n",
    "print('K Nearest Neighbors Prediction Accuracy:',str(np.round(accuracy_score(label_test,knn_pred)*100,2)) + '%')\n",
    "print('Decision Tree Classifier Prediction Accuracy:',str(np.round(accuracy_score(label_test,dtree_pred)*100,2)) + '%')\n",
    "print('Random Forests Classifier Prediction Accuracy:',str(np.round(accuracy_score(label_test,rfc_pred)*100,2)) + '%')\n",
    "print('Support Vector Machines Prediction Accuracy:',str(np.round(accuracy_score(label_test,svc_pred)*100,2)) + '%')\n",
    "print('Multinomial Naive Bayes Prediction Accuracy:',str(np.round(accuracy_score(label_test,predictions)*100,2)) + '%')"
   ]
  },
  {
   "cell_type": "code",
   "execution_count": 30,
   "id": "7c31c02b",
   "metadata": {},
   "outputs": [
    {
     "name": "stdout",
     "output_type": "stream",
     "text": [
      "Collecting torch\n",
      "  Downloading torch-2.2.1-cp311-cp311-win_amd64.whl (198.6 MB)\n",
      "                                              0.0/198.6 MB ? eta -:--:--\n",
      "                                              0.0/198.6 MB 1.3 MB/s eta 0:02:36\n",
      "                                              0.1/198.6 MB 1.2 MB/s eta 0:02:46\n",
      "                                              0.2/198.6 MB 1.9 MB/s eta 0:01:46\n",
      "                                              0.5/198.6 MB 2.9 MB/s eta 0:01:10\n",
      "                                              0.9/198.6 MB 3.8 MB/s eta 0:00:53\n",
      "                                              1.3/198.6 MB 4.9 MB/s eta 0:00:41\n",
      "                                              1.7/198.6 MB 5.4 MB/s eta 0:00:37\n",
      "                                              1.9/198.6 MB 5.5 MB/s eta 0:00:36\n",
      "                                              2.3/198.6 MB 5.7 MB/s eta 0:00:35\n",
      "                                              2.8/198.6 MB 6.2 MB/s eta 0:00:32\n",
      "                                              3.1/198.6 MB 6.2 MB/s eta 0:00:32\n",
      "                                              3.6/198.6 MB 6.5 MB/s eta 0:00:31\n",
      "                                              4.0/198.6 MB 6.7 MB/s eta 0:00:30\n",
      "                                              4.5/198.6 MB 7.0 MB/s eta 0:00:28\n",
      "                                              4.8/198.6 MB 7.0 MB/s eta 0:00:28\n",
      "     -                                        5.4/198.6 MB 7.3 MB/s eta 0:00:27\n",
      "     -                                        5.8/198.6 MB 7.4 MB/s eta 0:00:26\n",
      "     -                                        6.4/198.6 MB 7.7 MB/s eta 0:00:25\n",
      "     -                                        6.9/198.6 MB 7.9 MB/s eta 0:00:25\n",
      "     -                                        7.3/198.6 MB 7.9 MB/s eta 0:00:25\n",
      "     -                                        7.8/198.6 MB 8.0 MB/s eta 0:00:24\n",
      "     -                                        8.4/198.6 MB 8.2 MB/s eta 0:00:24\n",
      "     -                                        9.0/198.6 MB 8.6 MB/s eta 0:00:23\n",
      "     -                                        9.5/198.6 MB 8.7 MB/s eta 0:00:22\n",
      "     -                                       10.1/198.6 MB 8.9 MB/s eta 0:00:22\n",
      "     --                                      10.6/198.6 MB 9.9 MB/s eta 0:00:19\n",
      "     --                                     11.2/198.6 MB 10.2 MB/s eta 0:00:19\n",
      "     --                                     11.4/198.6 MB 10.2 MB/s eta 0:00:19\n",
      "     --                                     11.4/198.6 MB 10.2 MB/s eta 0:00:19\n",
      "     --                                     11.4/198.6 MB 10.2 MB/s eta 0:00:19\n",
      "     --                                     12.7/198.6 MB 10.6 MB/s eta 0:00:18\n",
      "     --                                     13.8/198.6 MB 11.1 MB/s eta 0:00:17\n",
      "     --                                     14.3/198.6 MB 11.3 MB/s eta 0:00:17\n",
      "     --                                     14.8/198.6 MB 11.3 MB/s eta 0:00:17\n",
      "     --                                     15.3/198.6 MB 11.3 MB/s eta 0:00:17\n",
      "     ---                                    15.9/198.6 MB 11.5 MB/s eta 0:00:16\n",
      "     ---                                    16.3/198.6 MB 11.3 MB/s eta 0:00:17\n",
      "     ---                                    16.9/198.6 MB 11.3 MB/s eta 0:00:17\n",
      "     ---                                    17.4/198.6 MB 11.3 MB/s eta 0:00:17\n",
      "     ---                                    18.0/198.6 MB 11.7 MB/s eta 0:00:16\n",
      "     ---                                    18.4/198.6 MB 11.5 MB/s eta 0:00:16\n",
      "     ---                                    19.0/198.6 MB 11.5 MB/s eta 0:00:16\n",
      "     ---                                    19.5/198.6 MB 11.3 MB/s eta 0:00:16\n",
      "     ---                                    20.0/198.6 MB 11.1 MB/s eta 0:00:17\n",
      "     ---                                    20.4/198.6 MB 11.3 MB/s eta 0:00:16\n",
      "     ----                                   21.0/198.6 MB 11.1 MB/s eta 0:00:17\n",
      "     ----                                   21.5/198.6 MB 11.1 MB/s eta 0:00:16\n",
      "     ----                                   21.9/198.6 MB 12.4 MB/s eta 0:00:15\n",
      "     ----                                   22.4/198.6 MB 11.7 MB/s eta 0:00:16\n",
      "     ----                                   22.6/198.6 MB 11.3 MB/s eta 0:00:16\n",
      "     ----                                   23.2/198.6 MB 11.1 MB/s eta 0:00:16\n",
      "     ----                                   23.7/198.6 MB 10.7 MB/s eta 0:00:17\n",
      "     ----                                   24.3/198.6 MB 10.9 MB/s eta 0:00:16\n",
      "     ----                                   24.9/198.6 MB 10.9 MB/s eta 0:00:16\n",
      "     ----                                   25.4/198.6 MB 11.1 MB/s eta 0:00:16\n",
      "     ----                                   25.9/198.6 MB 10.9 MB/s eta 0:00:16\n",
      "     -----                                  26.4/198.6 MB 11.1 MB/s eta 0:00:16\n",
      "     -----                                  27.0/198.6 MB 10.9 MB/s eta 0:00:16\n",
      "     -----                                  27.2/198.6 MB 10.6 MB/s eta 0:00:17\n",
      "     -----                                  27.8/198.6 MB 10.7 MB/s eta 0:00:16\n",
      "     -----                                  28.2/198.6 MB 10.6 MB/s eta 0:00:17\n",
      "     -----                                  28.7/198.6 MB 10.6 MB/s eta 0:00:17\n",
      "     -----                                  29.2/198.6 MB 10.6 MB/s eta 0:00:17\n",
      "     -----                                  29.6/198.6 MB 10.4 MB/s eta 0:00:17\n",
      "     -----                                  30.2/198.6 MB 10.6 MB/s eta 0:00:16\n",
      "     -----                                  30.6/198.6 MB 10.4 MB/s eta 0:00:17\n",
      "     -----                                  31.1/198.6 MB 10.4 MB/s eta 0:00:17\n",
      "     ------                                 31.6/198.6 MB 10.4 MB/s eta 0:00:17\n",
      "     ------                                 32.2/198.6 MB 10.6 MB/s eta 0:00:16\n",
      "     ------                                 32.8/198.6 MB 10.7 MB/s eta 0:00:16\n",
      "     ------                                 33.4/198.6 MB 10.9 MB/s eta 0:00:16\n",
      "     ------                                 33.8/198.6 MB 10.9 MB/s eta 0:00:16\n",
      "     ------                                 34.3/198.6 MB 10.7 MB/s eta 0:00:16\n",
      "     ------                                 34.9/198.6 MB 11.1 MB/s eta 0:00:15\n",
      "     ------                                 35.5/198.6 MB 11.1 MB/s eta 0:00:15\n",
      "     ------                                 36.1/198.6 MB 11.1 MB/s eta 0:00:15\n",
      "     ------                                 36.6/198.6 MB 10.9 MB/s eta 0:00:15\n",
      "     -------                                37.2/198.6 MB 11.1 MB/s eta 0:00:15\n",
      "     -------                                37.6/198.6 MB 11.3 MB/s eta 0:00:15\n",
      "     -------                                38.3/198.6 MB 11.5 MB/s eta 0:00:14\n",
      "     -------                                38.8/198.6 MB 11.5 MB/s eta 0:00:14\n",
      "     -------                                39.5/198.6 MB 11.9 MB/s eta 0:00:14\n",
      "     -------                                40.0/198.6 MB 11.9 MB/s eta 0:00:14\n",
      "     -------                                40.6/198.6 MB 11.9 MB/s eta 0:00:14\n",
      "     -------                                41.1/198.6 MB 11.9 MB/s eta 0:00:14\n",
      "     -------                                41.5/198.6 MB 11.9 MB/s eta 0:00:14\n",
      "     --------                               42.2/198.6 MB 12.1 MB/s eta 0:00:13\n",
      "     --------                               42.7/198.6 MB 11.9 MB/s eta 0:00:14\n",
      "     --------                               43.3/198.6 MB 11.9 MB/s eta 0:00:14\n",
      "     --------                               43.6/198.6 MB 11.7 MB/s eta 0:00:14\n",
      "     --------                               44.1/198.6 MB 11.7 MB/s eta 0:00:14\n",
      "     --------                               44.6/198.6 MB 11.7 MB/s eta 0:00:14\n",
      "     --------                               45.2/198.6 MB 11.7 MB/s eta 0:00:14\n",
      "     --------                               45.7/198.6 MB 11.7 MB/s eta 0:00:14\n",
      "     --------                               46.3/198.6 MB 11.5 MB/s eta 0:00:14\n",
      "     --------                               46.8/198.6 MB 11.7 MB/s eta 0:00:13\n",
      "     ---------                              47.3/198.6 MB 11.7 MB/s eta 0:00:13\n",
      "     ---------                              48.0/198.6 MB 11.7 MB/s eta 0:00:13\n",
      "     ---------                              48.6/198.6 MB 11.7 MB/s eta 0:00:13\n",
      "     ---------                              49.3/198.6 MB 11.7 MB/s eta 0:00:13\n",
      "     ---------                              49.9/198.6 MB 11.7 MB/s eta 0:00:13\n",
      "     ---------                              50.5/198.6 MB 11.9 MB/s eta 0:00:13\n",
      "     ---------                              51.1/198.6 MB 11.9 MB/s eta 0:00:13\n",
      "     ---------                              51.8/198.6 MB 12.1 MB/s eta 0:00:13\n",
      "     ----------                             52.3/198.6 MB 12.1 MB/s eta 0:00:13\n",
      "     ----------                             53.0/198.6 MB 12.1 MB/s eta 0:00:13\n",
      "     ----------                             53.6/198.6 MB 12.6 MB/s eta 0:00:12\n",
      "     ----------                             54.2/198.6 MB 12.8 MB/s eta 0:00:12\n",
      "     ----------                             54.8/198.6 MB 12.8 MB/s eta 0:00:12\n",
      "     ----------                             55.3/198.6 MB 12.8 MB/s eta 0:00:12\n",
      "     ----------                             56.0/198.6 MB 12.8 MB/s eta 0:00:12\n",
      "     ----------                             56.6/198.6 MB 13.1 MB/s eta 0:00:11\n",
      "     ----------                             57.3/198.6 MB 13.4 MB/s eta 0:00:11\n",
      "     -----------                            57.8/198.6 MB 13.4 MB/s eta 0:00:11\n",
      "     -----------                            58.5/198.6 MB 13.4 MB/s eta 0:00:11\n",
      "     -----------                            59.1/198.6 MB 13.4 MB/s eta 0:00:11\n",
      "     -----------                            59.7/198.6 MB 13.1 MB/s eta 0:00:11\n",
      "     -----------                            60.3/198.6 MB 13.1 MB/s eta 0:00:11\n",
      "     -----------                            60.6/198.6 MB 12.8 MB/s eta 0:00:11\n",
      "     -----------                            61.1/198.6 MB 12.6 MB/s eta 0:00:11\n",
      "     -----------                            61.4/198.6 MB 12.4 MB/s eta 0:00:12\n",
      "     -----------                            61.5/198.6 MB 12.1 MB/s eta 0:00:12\n",
      "     -----------                            61.5/198.6 MB 12.1 MB/s eta 0:00:12\n",
      "     -----------                            61.5/198.6 MB 12.1 MB/s eta 0:00:12\n",
      "     -----------                            62.4/198.6 MB 10.7 MB/s eta 0:00:13\n",
      "     ------------                           64.0/198.6 MB 11.9 MB/s eta 0:00:12\n",
      "     ------------                           64.6/198.6 MB 11.7 MB/s eta 0:00:12\n",
      "     ------------                           64.8/198.6 MB 11.7 MB/s eta 0:00:12\n",
      "     ------------                           65.2/198.6 MB 11.3 MB/s eta 0:00:12\n",
      "     ------------                           65.4/198.6 MB 11.1 MB/s eta 0:00:13\n",
      "     ------------                           65.7/198.6 MB 10.6 MB/s eta 0:00:13\n",
      "     ------------                           65.9/198.6 MB 10.4 MB/s eta 0:00:13\n",
      "     ------------                           66.4/198.6 MB 10.4 MB/s eta 0:00:13\n",
      "     ------------                           67.0/198.6 MB 10.2 MB/s eta 0:00:13\n",
      "     ------------                           67.5/198.6 MB 10.2 MB/s eta 0:00:13\n",
      "     -------------                          68.1/198.6 MB 10.2 MB/s eta 0:00:13\n",
      "     -------------                          68.8/198.6 MB 10.1 MB/s eta 0:00:13\n",
      "     -------------                          69.4/198.6 MB 10.2 MB/s eta 0:00:13\n",
      "     -------------                          69.9/198.6 MB 10.1 MB/s eta 0:00:13\n",
      "     -------------                          70.6/198.6 MB 10.2 MB/s eta 0:00:13\n",
      "     -------------                          71.0/198.6 MB 10.2 MB/s eta 0:00:13\n",
      "     -------------                          71.6/198.6 MB 10.6 MB/s eta 0:00:13\n",
      "     -------------                          72.3/198.6 MB 11.7 MB/s eta 0:00:11\n",
      "     -------------                          72.9/198.6 MB 11.7 MB/s eta 0:00:11\n",
      "     --------------                         73.5/198.6 MB 11.3 MB/s eta 0:00:12\n",
      "     --------------                         74.2/198.6 MB 11.1 MB/s eta 0:00:12\n",
      "     --------------                         74.8/198.6 MB 11.1 MB/s eta 0:00:12\n",
      "     --------------                         75.4/198.6 MB 11.7 MB/s eta 0:00:11\n",
      "     --------------                         76.1/198.6 MB 12.8 MB/s eta 0:00:10\n",
      "     --------------                         76.6/198.6 MB 12.9 MB/s eta 0:00:10\n",
      "     --------------                         77.3/198.6 MB 13.1 MB/s eta 0:00:10\n",
      "     --------------                         77.8/198.6 MB 13.1 MB/s eta 0:00:10\n",
      "     ---------------                        78.5/198.6 MB 13.1 MB/s eta 0:00:10\n",
      "     ---------------                        79.0/198.6 MB 13.1 MB/s eta 0:00:10\n",
      "     ---------------                        79.7/198.6 MB 13.1 MB/s eta 0:00:10\n",
      "     ---------------                        80.3/198.6 MB 13.4 MB/s eta 0:00:09\n",
      "     ---------------                        80.9/198.6 MB 13.4 MB/s eta 0:00:09\n",
      "     ---------------                        81.5/198.6 MB 13.4 MB/s eta 0:00:09\n",
      "     ---------------                        82.2/198.6 MB 13.4 MB/s eta 0:00:09\n",
      "     ---------------                        82.8/198.6 MB 13.4 MB/s eta 0:00:09\n",
      "     ---------------                        83.4/198.6 MB 13.4 MB/s eta 0:00:09\n",
      "     ----------------                       84.0/198.6 MB 13.4 MB/s eta 0:00:09\n",
      "     ----------------                       84.6/198.6 MB 13.4 MB/s eta 0:00:09\n",
      "     ----------------                       85.2/198.6 MB 13.4 MB/s eta 0:00:09\n",
      "     ----------------                       85.8/198.6 MB 13.1 MB/s eta 0:00:09\n",
      "     ----------------                       86.4/198.6 MB 13.4 MB/s eta 0:00:09\n",
      "     ----------------                       86.9/198.6 MB 13.1 MB/s eta 0:00:09\n",
      "     ----------------                       87.5/198.6 MB 13.1 MB/s eta 0:00:09\n",
      "     ----------------                       88.1/198.6 MB 13.1 MB/s eta 0:00:09\n",
      "     ----------------                       88.7/198.6 MB 13.1 MB/s eta 0:00:09\n",
      "     -----------------                      89.3/198.6 MB 13.1 MB/s eta 0:00:09\n",
      "     -----------------                      89.7/198.6 MB 12.6 MB/s eta 0:00:09\n",
      "     -----------------                      90.2/198.6 MB 12.6 MB/s eta 0:00:09\n",
      "     -----------------                      90.8/198.6 MB 12.6 MB/s eta 0:00:09\n",
      "     -----------------                      91.4/198.6 MB 12.6 MB/s eta 0:00:09\n",
      "     -----------------                      91.5/198.6 MB 12.4 MB/s eta 0:00:09\n",
      "     -----------------                      92.0/198.6 MB 12.1 MB/s eta 0:00:09\n",
      "     -----------------                      92.6/198.6 MB 11.9 MB/s eta 0:00:09\n",
      "     -----------------                      93.1/198.6 MB 11.9 MB/s eta 0:00:09\n",
      "     -----------------                      93.8/198.6 MB 11.9 MB/s eta 0:00:09\n",
      "     ------------------                     94.3/198.6 MB 11.7 MB/s eta 0:00:09\n",
      "     ------------------                     94.9/198.6 MB 11.7 MB/s eta 0:00:09\n",
      "     ------------------                     95.4/198.6 MB 11.7 MB/s eta 0:00:09\n",
      "     ------------------                     96.0/198.6 MB 11.7 MB/s eta 0:00:09\n",
      "     ------------------                     96.5/198.6 MB 11.7 MB/s eta 0:00:09\n",
      "     ------------------                     96.9/198.6 MB 11.5 MB/s eta 0:00:09\n",
      "     ------------------                     97.2/198.6 MB 11.3 MB/s eta 0:00:09\n",
      "     ------------------                     97.8/198.6 MB 11.1 MB/s eta 0:00:10\n",
      "     ------------------                     98.2/198.6 MB 11.1 MB/s eta 0:00:10\n",
      "     ------------------                     98.7/198.6 MB 10.9 MB/s eta 0:00:10\n",
      "     -------------------                    99.4/198.6 MB 10.9 MB/s eta 0:00:10\n",
      "     -------------------                    99.9/198.6 MB 10.9 MB/s eta 0:00:10\n",
      "     ------------------                    100.3/198.6 MB 10.9 MB/s eta 0:00:10\n",
      "     ------------------                    100.7/198.6 MB 10.7 MB/s eta 0:00:10\n",
      "     ------------------                    101.2/198.6 MB 10.7 MB/s eta 0:00:10\n",
      "     ------------------                    101.8/198.6 MB 11.1 MB/s eta 0:00:09\n",
      "     -------------------                   102.4/198.6 MB 11.1 MB/s eta 0:00:09\n",
      "     -------------------                   102.6/198.6 MB 11.3 MB/s eta 0:00:09\n",
      "     -------------------                   103.0/198.6 MB 10.7 MB/s eta 0:00:09\n",
      "     -------------------                   103.6/198.6 MB 10.7 MB/s eta 0:00:09\n",
      "     -------------------                   104.0/198.6 MB 10.6 MB/s eta 0:00:09\n",
      "     -------------------                   104.6/198.6 MB 10.7 MB/s eta 0:00:09\n",
      "     -------------------                   105.2/198.6 MB 10.7 MB/s eta 0:00:09\n",
      "     -------------------                   105.6/198.6 MB 10.6 MB/s eta 0:00:09\n",
      "     -------------------                   106.2/198.6 MB 10.6 MB/s eta 0:00:09\n",
      "     -------------------                   106.8/198.6 MB 10.6 MB/s eta 0:00:09\n",
      "     --------------------                  107.4/198.6 MB 10.9 MB/s eta 0:00:09\n",
      "     --------------------                  108.0/198.6 MB 11.1 MB/s eta 0:00:09\n",
      "     --------------------                  108.5/198.6 MB 11.3 MB/s eta 0:00:08\n",
      "     --------------------                  108.9/198.6 MB 11.1 MB/s eta 0:00:09\n",
      "     --------------------                  109.5/198.6 MB 11.1 MB/s eta 0:00:09\n",
      "     --------------------                  109.9/198.6 MB 10.9 MB/s eta 0:00:09\n",
      "     --------------------                  110.5/198.6 MB 11.1 MB/s eta 0:00:08\n",
      "     --------------------                  111.0/198.6 MB 11.1 MB/s eta 0:00:08\n",
      "     --------------------                  111.6/198.6 MB 11.1 MB/s eta 0:00:08\n",
      "     --------------------                  112.1/198.6 MB 11.1 MB/s eta 0:00:08\n",
      "     --------------------                  112.7/198.6 MB 11.1 MB/s eta 0:00:08\n",
      "     ---------------------                 113.2/198.6 MB 11.7 MB/s eta 0:00:08\n",
      "     ---------------------                 113.7/198.6 MB 11.5 MB/s eta 0:00:08\n",
      "     ---------------------                 114.3/198.6 MB 11.7 MB/s eta 0:00:08\n",
      "     ---------------------                 114.8/198.6 MB 11.5 MB/s eta 0:00:08\n",
      "     ---------------------                 115.4/198.6 MB 11.5 MB/s eta 0:00:08\n",
      "     ---------------------                 115.9/198.6 MB 11.7 MB/s eta 0:00:08\n",
      "     ---------------------                 116.6/198.6 MB 11.7 MB/s eta 0:00:08\n",
      "     ---------------------                 117.0/198.6 MB 11.5 MB/s eta 0:00:08\n",
      "     ---------------------                 117.3/198.6 MB 11.3 MB/s eta 0:00:08\n",
      "     ---------------------                 117.6/198.6 MB 11.1 MB/s eta 0:00:08\n",
      "     ----------------------                118.1/198.6 MB 10.9 MB/s eta 0:00:08\n",
      "     ----------------------                118.5/198.6 MB 10.7 MB/s eta 0:00:08\n",
      "     ----------------------                119.1/198.6 MB 11.1 MB/s eta 0:00:08\n",
      "     ----------------------                119.7/198.6 MB 10.9 MB/s eta 0:00:08\n",
      "     ----------------------                120.2/198.6 MB 10.9 MB/s eta 0:00:08\n",
      "     ----------------------                120.8/198.6 MB 11.1 MB/s eta 0:00:08\n",
      "     ----------------------                121.3/198.6 MB 11.1 MB/s eta 0:00:07\n",
      "     ----------------------                121.9/198.6 MB 11.3 MB/s eta 0:00:07\n",
      "     ----------------------                122.4/198.6 MB 11.3 MB/s eta 0:00:07\n",
      "     ----------------------                123.0/198.6 MB 11.3 MB/s eta 0:00:07\n",
      "     -----------------------               123.5/198.6 MB 11.3 MB/s eta 0:00:07\n",
      "     -----------------------               124.2/198.6 MB 11.3 MB/s eta 0:00:07\n",
      "     -----------------------               124.7/198.6 MB 11.5 MB/s eta 0:00:07\n",
      "     -----------------------               125.2/198.6 MB 11.3 MB/s eta 0:00:07\n",
      "     -----------------------               125.8/198.6 MB 11.3 MB/s eta 0:00:07\n",
      "     -----------------------               126.3/198.6 MB 11.3 MB/s eta 0:00:07\n",
      "     -----------------------               126.8/198.6 MB 11.1 MB/s eta 0:00:07\n",
      "     -----------------------               127.2/198.6 MB 10.9 MB/s eta 0:00:07\n",
      "     -----------------------               127.7/198.6 MB 11.3 MB/s eta 0:00:07\n",
      "     -----------------------               128.2/198.6 MB 11.5 MB/s eta 0:00:07\n",
      "     -----------------------               128.7/198.6 MB 11.5 MB/s eta 0:00:07\n",
      "     ------------------------              129.1/198.6 MB 11.7 MB/s eta 0:00:06\n",
      "     ------------------------              129.6/198.6 MB 11.5 MB/s eta 0:00:06\n",
      "     ------------------------              130.3/198.6 MB 11.5 MB/s eta 0:00:06\n",
      "     ------------------------              130.9/198.6 MB 11.5 MB/s eta 0:00:06\n",
      "     ------------------------              131.0/198.6 MB 11.1 MB/s eta 0:00:07\n",
      "     ------------------------              131.5/198.6 MB 11.1 MB/s eta 0:00:07\n",
      "     ------------------------              132.1/198.6 MB 10.9 MB/s eta 0:00:07\n",
      "     ------------------------              132.5/198.6 MB 10.9 MB/s eta 0:00:07\n",
      "     ------------------------              133.2/198.6 MB 11.1 MB/s eta 0:00:06\n",
      "     ------------------------              133.7/198.6 MB 10.9 MB/s eta 0:00:06\n",
      "     -------------------------             134.2/198.6 MB 10.7 MB/s eta 0:00:06\n",
      "     -------------------------             134.6/198.6 MB 10.7 MB/s eta 0:00:06\n",
      "     -------------------------             135.1/198.6 MB 10.7 MB/s eta 0:00:06\n",
      "     -------------------------             135.3/198.6 MB 10.6 MB/s eta 0:00:06\n",
      "     -------------------------             135.5/198.6 MB 10.2 MB/s eta 0:00:07\n",
      "     -------------------------              135.8/198.6 MB 9.9 MB/s eta 0:00:07\n",
      "     --------------------------             136.2/198.6 MB 9.8 MB/s eta 0:00:07\n",
      "     --------------------------             136.3/198.6 MB 9.8 MB/s eta 0:00:07\n",
      "     --------------------------             136.3/198.6 MB 9.8 MB/s eta 0:00:07\n",
      "     --------------------------             137.6/198.6 MB 9.8 MB/s eta 0:00:07\n",
      "     --------------------------             138.1/198.6 MB 9.8 MB/s eta 0:00:07\n",
      "     --------------------------             138.6/198.6 MB 9.8 MB/s eta 0:00:07\n",
      "     --------------------------             139.2/198.6 MB 9.9 MB/s eta 0:00:06\n",
      "     --------------------------             139.7/198.6 MB 9.9 MB/s eta 0:00:06\n",
      "     --------------------------             140.3/198.6 MB 9.9 MB/s eta 0:00:06\n",
      "     --------------------------             140.8/198.6 MB 9.8 MB/s eta 0:00:06\n",
      "     --------------------------            141.4/198.6 MB 10.2 MB/s eta 0:00:06\n",
      "     --------------------------            141.9/198.6 MB 10.2 MB/s eta 0:00:06\n",
      "     --------------------------            142.3/198.6 MB 10.1 MB/s eta 0:00:06\n",
      "     --------------------------            142.9/198.6 MB 10.1 MB/s eta 0:00:06\n",
      "     --------------------------            143.5/198.6 MB 10.1 MB/s eta 0:00:06\n",
      "     ---------------------------            143.8/198.6 MB 9.9 MB/s eta 0:00:06\n",
      "     ---------------------------            143.9/198.6 MB 9.6 MB/s eta 0:00:06\n",
      "     ---------------------------            144.4/198.6 MB 9.8 MB/s eta 0:00:06\n",
      "     ---------------------------            144.9/198.6 MB 9.6 MB/s eta 0:00:06\n",
      "     ---------------------------            145.5/198.6 MB 9.9 MB/s eta 0:00:06\n",
      "     ---------------------------           145.9/198.6 MB 10.6 MB/s eta 0:00:05\n",
      "     ---------------------------           146.2/198.6 MB 10.6 MB/s eta 0:00:05\n",
      "     ---------------------------           146.4/198.6 MB 10.1 MB/s eta 0:00:06\n",
      "     ---------------------------           147.0/198.6 MB 10.7 MB/s eta 0:00:05\n",
      "     ---------------------------           147.5/198.6 MB 10.2 MB/s eta 0:00:05\n",
      "     ---------------------------           148.1/198.6 MB 10.2 MB/s eta 0:00:05\n",
      "     ---------------------------           148.6/198.6 MB 10.2 MB/s eta 0:00:05\n",
      "     ---------------------------           149.2/198.6 MB 10.4 MB/s eta 0:00:05\n",
      "     ---------------------------           149.7/198.6 MB 10.2 MB/s eta 0:00:05\n",
      "     ---------------------------           150.2/198.6 MB 10.2 MB/s eta 0:00:05\n",
      "     ----------------------------          150.6/198.6 MB 10.2 MB/s eta 0:00:05\n",
      "     ----------------------------          151.2/198.6 MB 10.2 MB/s eta 0:00:05\n",
      "     ----------------------------          151.8/198.6 MB 10.2 MB/s eta 0:00:05\n",
      "     ----------------------------          152.2/198.6 MB 10.4 MB/s eta 0:00:05\n",
      "     ----------------------------          152.5/198.6 MB 10.1 MB/s eta 0:00:05\n",
      "     ----------------------------          153.1/198.6 MB 10.1 MB/s eta 0:00:05\n",
      "     ----------------------------          153.5/198.6 MB 10.1 MB/s eta 0:00:05\n",
      "     ----------------------------          154.1/198.6 MB 10.7 MB/s eta 0:00:05\n",
      "     ----------------------------          154.6/198.6 MB 10.4 MB/s eta 0:00:05\n",
      "     ----------------------------          155.2/198.6 MB 10.7 MB/s eta 0:00:05\n",
      "     -----------------------------         155.7/198.6 MB 10.7 MB/s eta 0:00:04\n",
      "     -----------------------------         156.2/198.6 MB 10.6 MB/s eta 0:00:05\n",
      "     -----------------------------         156.6/198.6 MB 11.3 MB/s eta 0:00:04\n",
      "     -----------------------------         157.1/198.6 MB 11.1 MB/s eta 0:00:04\n",
      "     -----------------------------         157.6/198.6 MB 11.1 MB/s eta 0:00:04\n",
      "     -----------------------------         158.2/198.6 MB 10.9 MB/s eta 0:00:04\n",
      "     -----------------------------         158.8/198.6 MB 10.9 MB/s eta 0:00:04\n",
      "     -----------------------------         159.2/198.6 MB 10.9 MB/s eta 0:00:04\n",
      "     -----------------------------         159.8/198.6 MB 11.1 MB/s eta 0:00:04\n",
      "     -----------------------------         160.4/198.6 MB 11.1 MB/s eta 0:00:04\n",
      "     -----------------------------         161.0/198.6 MB 11.1 MB/s eta 0:00:04\n",
      "     ------------------------------        161.6/198.6 MB 11.1 MB/s eta 0:00:04\n",
      "     ------------------------------        162.1/198.6 MB 11.1 MB/s eta 0:00:04\n",
      "     ------------------------------        162.5/198.6 MB 11.3 MB/s eta 0:00:04\n",
      "     ------------------------------        163.1/198.6 MB 11.3 MB/s eta 0:00:04\n",
      "     ------------------------------        163.7/198.6 MB 11.5 MB/s eta 0:00:04\n",
      "     ------------------------------        164.3/198.6 MB 11.5 MB/s eta 0:00:03\n",
      "     ------------------------------        164.9/198.6 MB 11.5 MB/s eta 0:00:03\n",
      "     ------------------------------        165.4/198.6 MB 11.5 MB/s eta 0:00:03\n",
      "     ------------------------------        166.1/198.6 MB 11.7 MB/s eta 0:00:03\n",
      "     -------------------------------       166.6/198.6 MB 11.9 MB/s eta 0:00:03\n",
      "     -------------------------------       167.3/198.6 MB 12.1 MB/s eta 0:00:03\n",
      "     -------------------------------       167.8/198.6 MB 12.4 MB/s eta 0:00:03\n",
      "     -------------------------------       168.5/198.6 MB 12.4 MB/s eta 0:00:03\n",
      "     -------------------------------       169.0/198.6 MB 12.4 MB/s eta 0:00:03\n",
      "     -------------------------------       169.6/198.6 MB 12.6 MB/s eta 0:00:03\n",
      "     -------------------------------       170.1/198.6 MB 12.6 MB/s eta 0:00:03\n",
      "     -------------------------------       170.7/198.6 MB 12.4 MB/s eta 0:00:03\n",
      "     -------------------------------       170.8/198.6 MB 12.4 MB/s eta 0:00:03\n",
      "     -------------------------------       170.8/198.6 MB 12.4 MB/s eta 0:00:03\n",
      "     --------------------------------      172.0/198.6 MB 11.9 MB/s eta 0:00:03\n",
      "     --------------------------------      172.5/198.6 MB 11.9 MB/s eta 0:00:03\n",
      "     --------------------------------      173.0/198.6 MB 11.9 MB/s eta 0:00:03\n",
      "     --------------------------------      173.5/198.6 MB 11.7 MB/s eta 0:00:03\n",
      "     --------------------------------      174.0/198.6 MB 11.7 MB/s eta 0:00:03\n",
      "     --------------------------------      174.5/198.6 MB 11.7 MB/s eta 0:00:03\n",
      "     --------------------------------      175.2/198.6 MB 11.7 MB/s eta 0:00:03\n",
      "     --------------------------------      175.4/198.6 MB 11.3 MB/s eta 0:00:03\n",
      "     --------------------------------      175.9/198.6 MB 11.3 MB/s eta 0:00:03\n",
      "     --------------------------------      176.5/198.6 MB 11.3 MB/s eta 0:00:02\n",
      "     --------------------------------      177.1/198.6 MB 11.3 MB/s eta 0:00:02\n",
      "     ---------------------------------     177.7/198.6 MB 11.3 MB/s eta 0:00:02\n",
      "     ---------------------------------     178.2/198.6 MB 11.3 MB/s eta 0:00:02\n",
      "     ---------------------------------     178.8/198.6 MB 11.3 MB/s eta 0:00:02\n",
      "     ---------------------------------     179.3/198.6 MB 11.1 MB/s eta 0:00:02\n",
      "     ---------------------------------     179.6/198.6 MB 10.9 MB/s eta 0:00:02\n",
      "     ---------------------------------     180.2/198.6 MB 10.9 MB/s eta 0:00:02\n",
      "     ---------------------------------     180.7/198.6 MB 10.9 MB/s eta 0:00:02\n",
      "     ---------------------------------     180.8/198.6 MB 10.4 MB/s eta 0:00:02\n",
      "     ---------------------------------     181.4/198.6 MB 11.5 MB/s eta 0:00:02\n",
      "     ---------------------------------     182.0/198.6 MB 10.9 MB/s eta 0:00:02\n",
      "     ----------------------------------    182.5/198.6 MB 10.9 MB/s eta 0:00:02\n",
      "     ----------------------------------    183.2/198.6 MB 10.9 MB/s eta 0:00:02\n",
      "     ----------------------------------    183.6/198.6 MB 11.1 MB/s eta 0:00:02\n",
      "     ----------------------------------    184.2/198.6 MB 11.1 MB/s eta 0:00:02\n",
      "     ----------------------------------    184.4/198.6 MB 11.1 MB/s eta 0:00:02\n",
      "     ----------------------------------    184.7/198.6 MB 10.4 MB/s eta 0:00:02\n",
      "     ----------------------------------    185.0/198.6 MB 10.2 MB/s eta 0:00:02\n",
      "     ----------------------------------    185.5/198.6 MB 10.2 MB/s eta 0:00:02\n",
      "     ----------------------------------    186.1/198.6 MB 10.4 MB/s eta 0:00:02\n",
      "     ----------------------------------    186.7/198.6 MB 10.4 MB/s eta 0:00:02\n",
      "     ----------------------------------    187.2/198.6 MB 10.4 MB/s eta 0:00:02\n",
      "     ----------------------------------    187.7/198.6 MB 10.2 MB/s eta 0:00:02\n",
      "     -----------------------------------   188.4/198.6 MB 10.4 MB/s eta 0:00:01\n",
      "     -----------------------------------   188.4/198.6 MB 10.4 MB/s eta 0:00:01\n",
      "     -----------------------------------   188.9/198.6 MB 10.1 MB/s eta 0:00:01\n",
      "     -----------------------------------   189.4/198.6 MB 10.1 MB/s eta 0:00:01\n",
      "     -----------------------------------   189.9/198.6 MB 10.1 MB/s eta 0:00:01\n",
      "     -----------------------------------   190.5/198.6 MB 10.2 MB/s eta 0:00:01\n",
      "     ------------------------------------   190.9/198.6 MB 9.9 MB/s eta 0:00:01\n",
      "     -----------------------------------   191.5/198.6 MB 10.4 MB/s eta 0:00:01\n",
      "     -----------------------------------   192.1/198.6 MB 10.4 MB/s eta 0:00:01\n",
      "     -----------------------------------   192.7/198.6 MB 10.6 MB/s eta 0:00:01\n",
      "     -----------------------------------   193.1/198.6 MB 10.2 MB/s eta 0:00:01\n",
      "     ------------------------------------  193.5/198.6 MB 10.2 MB/s eta 0:00:01\n",
      "     ------------------------------------  194.0/198.6 MB 10.2 MB/s eta 0:00:01\n",
      "     -------------------------------------  194.2/198.6 MB 9.9 MB/s eta 0:00:01\n",
      "     -------------------------------------  194.5/198.6 MB 9.8 MB/s eta 0:00:01\n",
      "     -------------------------------------  194.5/198.6 MB 9.2 MB/s eta 0:00:01\n",
      "     -------------------------------------  194.9/198.6 MB 9.6 MB/s eta 0:00:01\n",
      "     -------------------------------------  195.5/198.6 MB 9.8 MB/s eta 0:00:01\n",
      "     -------------------------------------  195.9/198.6 MB 9.6 MB/s eta 0:00:01\n",
      "     -------------------------------------  196.4/198.6 MB 9.6 MB/s eta 0:00:01\n",
      "     -------------------------------------  196.9/198.6 MB 9.6 MB/s eta 0:00:01\n",
      "     -------------------------------------  197.6/198.6 MB 9.6 MB/s eta 0:00:01\n",
      "     -------------------------------------  197.8/198.6 MB 9.6 MB/s eta 0:00:01\n",
      "     -------------------------------------  198.1/198.6 MB 9.2 MB/s eta 0:00:01\n",
      "     -------------------------------------  198.6/198.6 MB 9.2 MB/s eta 0:00:01\n",
      "     -------------------------------------  198.6/198.6 MB 9.2 MB/s eta 0:00:01\n",
      "     -------------------------------------  198.6/198.6 MB 9.2 MB/s eta 0:00:01\n",
      "     -------------------------------------  198.6/198.6 MB 9.2 MB/s eta 0:00:01\n",
      "     -------------------------------------  198.6/198.6 MB 9.2 MB/s eta 0:00:01\n",
      "     -------------------------------------  198.6/198.6 MB 9.2 MB/s eta 0:00:01\n",
      "     -------------------------------------  198.6/198.6 MB 9.2 MB/s eta 0:00:01\n",
      "     -------------------------------------  198.6/198.6 MB 9.2 MB/s eta 0:00:01\n",
      "     -------------------------------------  198.6/198.6 MB 9.2 MB/s eta 0:00:01\n",
      "     -------------------------------------  198.6/198.6 MB 9.2 MB/s eta 0:00:01\n",
      "     -------------------------------------  198.6/198.6 MB 9.2 MB/s eta 0:00:01\n",
      "     -------------------------------------  198.6/198.6 MB 9.2 MB/s eta 0:00:01\n",
      "     -------------------------------------  198.6/198.6 MB 9.2 MB/s eta 0:00:01\n",
      "     -------------------------------------  198.6/198.6 MB 9.2 MB/s eta 0:00:01\n",
      "     -------------------------------------  198.6/198.6 MB 9.2 MB/s eta 0:00:01\n",
      "     -------------------------------------  198.6/198.6 MB 9.2 MB/s eta 0:00:01\n",
      "     -------------------------------------  198.6/198.6 MB 9.2 MB/s eta 0:00:01\n",
      "     -------------------------------------  198.6/198.6 MB 9.2 MB/s eta 0:00:01\n",
      "     -------------------------------------  198.6/198.6 MB 9.2 MB/s eta 0:00:01\n",
      "     -------------------------------------  198.6/198.6 MB 9.2 MB/s eta 0:00:01\n",
      "     -------------------------------------  198.6/198.6 MB 9.2 MB/s eta 0:00:01\n",
      "     -------------------------------------  198.6/198.6 MB 9.2 MB/s eta 0:00:01\n",
      "     -------------------------------------  198.6/198.6 MB 9.2 MB/s eta 0:00:01\n",
      "     -------------------------------------  198.6/198.6 MB 9.2 MB/s eta 0:00:01\n",
      "     -------------------------------------  198.6/198.6 MB 9.2 MB/s eta 0:00:01\n",
      "     -------------------------------------  198.6/198.6 MB 9.2 MB/s eta 0:00:01\n",
      "     -------------------------------------  198.6/198.6 MB 9.2 MB/s eta 0:00:01\n",
      "     -------------------------------------  198.6/198.6 MB 9.2 MB/s eta 0:00:01\n",
      "     -------------------------------------  198.6/198.6 MB 9.2 MB/s eta 0:00:01\n",
      "     -------------------------------------  198.6/198.6 MB 9.2 MB/s eta 0:00:01\n",
      "     -------------------------------------  198.6/198.6 MB 9.2 MB/s eta 0:00:01\n",
      "     -------------------------------------  198.6/198.6 MB 9.2 MB/s eta 0:00:01\n",
      "     -------------------------------------  198.6/198.6 MB 9.2 MB/s eta 0:00:01\n",
      "     -------------------------------------  198.6/198.6 MB 9.2 MB/s eta 0:00:01\n",
      "     -------------------------------------  198.6/198.6 MB 9.2 MB/s eta 0:00:01\n",
      "     -------------------------------------  198.6/198.6 MB 9.2 MB/s eta 0:00:01\n",
      "     -------------------------------------  198.6/198.6 MB 9.2 MB/s eta 0:00:01\n",
      "     -------------------------------------  198.6/198.6 MB 9.2 MB/s eta 0:00:01\n",
      "     -------------------------------------  198.6/198.6 MB 9.2 MB/s eta 0:00:01\n",
      "     -------------------------------------  198.6/198.6 MB 9.2 MB/s eta 0:00:01\n",
      "     -------------------------------------  198.6/198.6 MB 9.2 MB/s eta 0:00:01\n",
      "     -------------------------------------  198.6/198.6 MB 9.2 MB/s eta 0:00:01\n",
      "     -------------------------------------  198.6/198.6 MB 9.2 MB/s eta 0:00:01\n",
      "     -------------------------------------  198.6/198.6 MB 9.2 MB/s eta 0:00:01\n",
      "     -------------------------------------  198.6/198.6 MB 9.2 MB/s eta 0:00:01\n",
      "     -------------------------------------  198.6/198.6 MB 9.2 MB/s eta 0:00:01\n",
      "     -------------------------------------- 198.6/198.6 MB 2.9 MB/s eta 0:00:00\n",
      "Requirement already satisfied: filelock in c:\\users\\2076\\anaconda3\\lib\\site-packages (from torch) (3.9.0)\n",
      "Collecting typing-extensions>=4.8.0 (from torch)\n",
      "  Downloading typing_extensions-4.10.0-py3-none-any.whl (33 kB)\n",
      "Requirement already satisfied: sympy in c:\\users\\2076\\anaconda3\\lib\\site-packages (from torch) (1.11.1)\n",
      "Requirement already satisfied: networkx in c:\\users\\2076\\anaconda3\\lib\\site-packages (from torch) (2.8.4)\n",
      "Requirement already satisfied: jinja2 in c:\\users\\2076\\anaconda3\\lib\\site-packages (from torch) (3.1.2)\n",
      "Requirement already satisfied: fsspec in c:\\users\\2076\\anaconda3\\lib\\site-packages (from torch) (2023.3.0)\n",
      "Requirement already satisfied: MarkupSafe>=2.0 in c:\\users\\2076\\anaconda3\\lib\\site-packages (from jinja2->torch) (2.1.1)\n",
      "Requirement already satisfied: mpmath>=0.19 in c:\\users\\2076\\anaconda3\\lib\\site-packages (from sympy->torch) (1.2.1)\n",
      "Installing collected packages: typing-extensions, torch\n",
      "  Attempting uninstall: typing-extensions\n",
      "    Found existing installation: typing_extensions 4.6.3\n",
      "    Uninstalling typing_extensions-4.6.3:\n",
      "      Successfully uninstalled typing_extensions-4.6.3\n",
      "Successfully installed torch-2.2.1 typing-extensions-4.10.0\n"
     ]
    }
   ],
   "source": [
    "!pip install torch"
   ]
  },
  {
   "cell_type": "code",
   "execution_count": 32,
   "id": "33473c67",
   "metadata": {},
   "outputs": [
    {
     "name": "stdout",
     "output_type": "stream",
     "text": [
      "Collecting torchmetrics\n",
      "  Downloading torchmetrics-1.3.2-py3-none-any.whl (841 kB)\n",
      "                                              0.0/841.5 kB ? eta -:--:--\n",
      "     -                                       30.7/841.5 kB 1.4 MB/s eta 0:00:01\n",
      "     ----                                  92.2/841.5 kB 871.5 kB/s eta 0:00:01\n",
      "     ------                                 153.6/841.5 kB 1.0 MB/s eta 0:00:01\n",
      "     ----------                             235.5/841.5 kB 1.2 MB/s eta 0:00:01\n",
      "     --------------                         317.4/841.5 kB 1.3 MB/s eta 0:00:01\n",
      "     ------------------                     399.4/841.5 kB 1.4 MB/s eta 0:00:01\n",
      "     ---------------------                  481.3/841.5 kB 1.4 MB/s eta 0:00:01\n",
      "     -------------------------              563.2/841.5 kB 1.5 MB/s eta 0:00:01\n",
      "     -----------------------------          655.4/841.5 kB 1.5 MB/s eta 0:00:01\n",
      "     --------------------------------       716.8/841.5 kB 1.6 MB/s eta 0:00:01\n",
      "     ------------------------------------   819.2/841.5 kB 1.6 MB/s eta 0:00:01\n",
      "     -------------------------------------- 841.5/841.5 kB 1.5 MB/s eta 0:00:00\n",
      "Requirement already satisfied: numpy>1.20.0 in c:\\users\\2076\\anaconda3\\lib\\site-packages (from torchmetrics) (1.24.3)\n",
      "Requirement already satisfied: packaging>17.1 in c:\\users\\2076\\anaconda3\\lib\\site-packages (from torchmetrics) (23.0)\n",
      "Requirement already satisfied: torch>=1.10.0 in c:\\users\\2076\\anaconda3\\lib\\site-packages (from torchmetrics) (2.2.1)\n",
      "Collecting lightning-utilities>=0.8.0 (from torchmetrics)\n",
      "  Downloading lightning_utilities-0.11.0-py3-none-any.whl (25 kB)\n",
      "Requirement already satisfied: setuptools in c:\\users\\2076\\anaconda3\\lib\\site-packages (from lightning-utilities>=0.8.0->torchmetrics) (67.8.0)\n",
      "Requirement already satisfied: typing-extensions in c:\\users\\2076\\anaconda3\\lib\\site-packages (from lightning-utilities>=0.8.0->torchmetrics) (4.10.0)\n",
      "Requirement already satisfied: filelock in c:\\users\\2076\\anaconda3\\lib\\site-packages (from torch>=1.10.0->torchmetrics) (3.9.0)\n",
      "Requirement already satisfied: sympy in c:\\users\\2076\\anaconda3\\lib\\site-packages (from torch>=1.10.0->torchmetrics) (1.11.1)\n",
      "Requirement already satisfied: networkx in c:\\users\\2076\\anaconda3\\lib\\site-packages (from torch>=1.10.0->torchmetrics) (2.8.4)\n",
      "Requirement already satisfied: jinja2 in c:\\users\\2076\\anaconda3\\lib\\site-packages (from torch>=1.10.0->torchmetrics) (3.1.2)\n",
      "Requirement already satisfied: fsspec in c:\\users\\2076\\anaconda3\\lib\\site-packages (from torch>=1.10.0->torchmetrics) (2023.3.0)\n",
      "Requirement already satisfied: MarkupSafe>=2.0 in c:\\users\\2076\\anaconda3\\lib\\site-packages (from jinja2->torch>=1.10.0->torchmetrics) (2.1.1)\n",
      "Requirement already satisfied: mpmath>=0.19 in c:\\users\\2076\\anaconda3\\lib\\site-packages (from sympy->torch>=1.10.0->torchmetrics) (1.2.1)\n",
      "Installing collected packages: lightning-utilities, torchmetrics\n",
      "Successfully installed lightning-utilities-0.11.0 torchmetrics-1.3.2\n"
     ]
    }
   ],
   "source": [
    "!pip install torchmetrics"
   ]
  },
  {
   "cell_type": "code",
   "execution_count": 78,
   "id": "8b89d23a",
   "metadata": {},
   "outputs": [
    {
     "name": "stdout",
     "output_type": "stream",
     "text": [
      "Requirement already satisfied: transformers in c:\\users\\2076\\anaconda3\\lib\\site-packages (2.1.1)Note: you may need to restart the kernel to use updated packages.\n",
      "\n",
      "Requirement already satisfied: numpy in c:\\users\\2076\\anaconda3\\lib\\site-packages (from transformers) (1.24.3)\n",
      "Requirement already satisfied: boto3 in c:\\users\\2076\\anaconda3\\lib\\site-packages (from transformers) (1.24.28)\n",
      "Requirement already satisfied: requests in c:\\users\\2076\\anaconda3\\lib\\site-packages (from transformers) (2.29.0)\n",
      "Requirement already satisfied: tqdm in c:\\users\\2076\\anaconda3\\lib\\site-packages (from transformers) (4.65.0)\n",
      "Requirement already satisfied: regex in c:\\users\\2076\\anaconda3\\lib\\site-packages (from transformers) (2022.7.9)\n",
      "Requirement already satisfied: sentencepiece in c:\\users\\2076\\anaconda3\\lib\\site-packages (from transformers) (0.2.0)\n",
      "Requirement already satisfied: sacremoses in c:\\users\\2076\\anaconda3\\lib\\site-packages (from transformers) (0.0.43)\n",
      "Requirement already satisfied: botocore<1.28.0,>=1.27.28 in c:\\users\\2076\\anaconda3\\lib\\site-packages (from boto3->transformers) (1.27.59)\n",
      "Requirement already satisfied: jmespath<2.0.0,>=0.7.1 in c:\\users\\2076\\anaconda3\\lib\\site-packages (from boto3->transformers) (0.10.0)\n",
      "Requirement already satisfied: s3transfer<0.7.0,>=0.6.0 in c:\\users\\2076\\anaconda3\\lib\\site-packages (from boto3->transformers) (0.6.0)\n",
      "Requirement already satisfied: charset-normalizer<4,>=2 in c:\\users\\2076\\anaconda3\\lib\\site-packages (from requests->transformers) (2.0.4)\n",
      "Requirement already satisfied: idna<4,>=2.5 in c:\\users\\2076\\anaconda3\\lib\\site-packages (from requests->transformers) (3.4)\n",
      "Requirement already satisfied: urllib3<1.27,>=1.21.1 in c:\\users\\2076\\anaconda3\\lib\\site-packages (from requests->transformers) (1.26.16)\n",
      "Requirement already satisfied: certifi>=2017.4.17 in c:\\users\\2076\\anaconda3\\lib\\site-packages (from requests->transformers) (2023.5.7)\n",
      "Requirement already satisfied: six in c:\\users\\2076\\anaconda3\\lib\\site-packages (from sacremoses->transformers) (1.16.0)\n",
      "Requirement already satisfied: click in c:\\users\\2076\\anaconda3\\lib\\site-packages (from sacremoses->transformers) (8.0.4)\n",
      "Requirement already satisfied: joblib in c:\\users\\2076\\anaconda3\\lib\\site-packages (from sacremoses->transformers) (1.2.0)\n",
      "Requirement already satisfied: colorama in c:\\users\\2076\\anaconda3\\lib\\site-packages (from tqdm->transformers) (0.4.6)\n",
      "Requirement already satisfied: python-dateutil<3.0.0,>=2.1 in c:\\users\\2076\\anaconda3\\lib\\site-packages (from botocore<1.28.0,>=1.27.28->boto3->transformers) (2.8.2)\n"
     ]
    }
   ],
   "source": [
    "pip install transformers"
   ]
  },
  {
   "cell_type": "code",
   "execution_count": 120,
   "id": "dda499a2",
   "metadata": {},
   "outputs": [],
   "source": [
    "import torch\n",
    "from transformers import BertTokenizer, BertForSequenceClassification"
   ]
  },
  {
   "cell_type": "code",
   "execution_count": 121,
   "id": "9ecc23a0",
   "metadata": {},
   "outputs": [],
   "source": [
    "# Load pre-trained BERT model and tokenizer\n",
    "model_name = 'bert-base-uncased'  \n",
    "tokenizer = BertTokenizer.from_pretrained(model_name)\n",
    "model = BertForSequenceClassification.from_pretrained(model_name, num_labels=2)  \n"
   ]
  },
  {
   "cell_type": "code",
   "execution_count": 122,
   "id": "2f6ae45e",
   "metadata": {},
   "outputs": [],
   "source": [
    "def tokenize_text(text):\n",
    "    return tokenizer.encode_plus(text, add_special_tokens=True, max_length=128, padding='max_length', truncation=True, return_tensors='pt')\n",
    "\n",
    "def predict_with_bert(text):\n",
    "    inputs = tokenize_text(text)\n",
    "    outputs = model(**inputs)\n",
    "    logits = outputs.logits\n",
    "    probabilities = torch.softmax(logits, dim=1)\n",
    "    predicted_label = torch.argmax(probabilities, dim=1).item()\n",
    "    return predicted_label"
   ]
  },
  {
   "cell_type": "code",
   "execution_count": 123,
   "id": "3da6a992",
   "metadata": {},
   "outputs": [],
   "source": [
    "# Function to preprocess text\n",
    "def preprocess(text):\n",
    "    # Tokenize the text and filter out stopwords, digits, and punctuation\n",
    "    return ' '.join([word for word in word_tokenize(text) \n",
    "                     if word.lower() not in stopwords.words('english') \n",
    "                     and not word.isdigit() \n",
    "                     and word not in string.punctuation])"
   ]
  },
  {
   "cell_type": "code",
   "execution_count": 125,
   "id": "a20e030c",
   "metadata": {},
   "outputs": [
    {
     "name": "stdout",
     "output_type": "stream",
     "text": [
      "BERT Model Accuracy: 93.95%\n"
     ]
    }
   ],
   "source": [
    "from sklearn.metrics import accuracy_score\n",
    "\n",
    "#Example evaluation\n",
    "accuracy = accuracy_score(df['label'], df['predicted_label'])\n",
    "print(f\"BERT Model Accuracy: {accuracy}%\")"
   ]
  },
  {
   "cell_type": "code",
   "execution_count": null,
   "id": "cda41ff6",
   "metadata": {},
   "outputs": [],
   "source": []
  },
  {
   "cell_type": "code",
   "execution_count": null,
   "id": "d641fa47",
   "metadata": {},
   "outputs": [],
   "source": []
  }
 ],
 "metadata": {
  "kernelspec": {
   "display_name": "Python 3 (ipykernel)",
   "language": "python",
   "name": "python3"
  },
  "language_info": {
   "codemirror_mode": {
    "name": "ipython",
    "version": 3
   },
   "file_extension": ".py",
   "mimetype": "text/x-python",
   "name": "python",
   "nbconvert_exporter": "python",
   "pygments_lexer": "ipython3",
   "version": "3.11.3"
  }
 },
 "nbformat": 4,
 "nbformat_minor": 5
}
